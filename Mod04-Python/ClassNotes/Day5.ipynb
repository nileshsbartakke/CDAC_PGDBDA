{
 "cells": [
  {
   "cell_type": "code",
   "execution_count": 1,
   "metadata": {},
   "outputs": [],
   "source": [
    "string='Banana'\n",
    "set1=set(string)"
   ]
  },
  {
   "cell_type": "code",
   "execution_count": 2,
   "metadata": {},
   "outputs": [
    {
     "data": {
      "text/plain": [
       "{'B', 'a', 'n'}"
      ]
     },
     "execution_count": 2,
     "metadata": {},
     "output_type": "execute_result"
    }
   ],
   "source": [
    "set1"
   ]
  },
  {
   "cell_type": "code",
   "execution_count": 3,
   "metadata": {},
   "outputs": [
    {
     "name": "stdout",
     "output_type": "stream",
     "text": [
      "B\n",
      "n\n",
      "a\n"
     ]
    }
   ],
   "source": [
    "for i in set1:\n",
    "    print(i)"
   ]
  },
  {
   "cell_type": "code",
   "execution_count": 6,
   "metadata": {},
   "outputs": [
    {
     "name": "stdout",
     "output_type": "stream",
     "text": [
      "['B', 'BB', 'BBB', 'BBBB', 'BBBBB', 'BBBBBB', 'BBBBBa', 'BBBBBn', 'BBBBa', 'BBBBaB', 'BBBBaa', 'BBBBan', 'BBBBn', 'BBBBnB', 'BBBBna', 'BBBBnn', 'BBBa', 'BBBaB', 'BBBaBB', 'BBBaBa', 'BBBaBn', 'BBBaa', 'BBBaaB', 'BBBaaa', 'BBBaan', 'BBBan', 'BBBanB', 'BBBana', 'BBBann', 'BBBn', 'BBBnB', 'BBBnBB', 'BBBnBa', 'BBBnBn', 'BBBna', 'BBBnaB', 'BBBnaa', 'BBBnan', 'BBBnn', 'BBBnnB', 'BBBnna', 'BBBnnn', 'BBa', 'BBaB', 'BBaBB', 'BBaBBB', 'BBaBBa', 'BBaBBn', 'BBaBa', 'BBaBaB', 'BBaBaa', 'BBaBan', 'BBaBn', 'BBaBnB', 'BBaBna', 'BBaBnn', 'BBaa', 'BBaaB', 'BBaaBB', 'BBaaBa', 'BBaaBn', 'BBaaa', 'BBaaaB', 'BBaaaa', 'BBaaan', 'BBaan', 'BBaanB', 'BBaana', 'BBaann', 'BBan', 'BBanB', 'BBanBB', 'BBanBa', 'BBanBn', 'BBana', 'BBanaB', 'BBanaa', 'BBanan', 'BBann', 'BBannB', 'BBanna', 'BBannn', 'BBn', 'BBnB', 'BBnBB', 'BBnBBB', 'BBnBBa', 'BBnBBn', 'BBnBa', 'BBnBaB', 'BBnBaa', 'BBnBan', 'BBnBn', 'BBnBnB', 'BBnBna', 'BBnBnn', 'BBna', 'BBnaB', 'BBnaBB', 'BBnaBa', 'BBnaBn', 'BBnaa', 'BBnaaB', 'BBnaaa', 'BBnaan', 'BBnan', 'BBnanB', 'BBnana', 'BBnann', 'BBnn', 'BBnnB', 'BBnnBB', 'BBnnBa', 'BBnnBn', 'BBnna', 'BBnnaB', 'BBnnaa', 'BBnnan', 'BBnnn', 'BBnnnB', 'BBnnna', 'BBnnnn', 'Ba', 'BaB', 'BaBB', 'BaBBB', 'BaBBBB', 'BaBBBa', 'BaBBBn', 'BaBBa', 'BaBBaB', 'BaBBaa', 'BaBBan', 'BaBBn', 'BaBBnB', 'BaBBna', 'BaBBnn', 'BaBa', 'BaBaB', 'BaBaBB', 'BaBaBa', 'BaBaBn', 'BaBaa', 'BaBaaB', 'BaBaaa', 'BaBaan', 'BaBan', 'BaBanB', 'BaBana', 'BaBann', 'BaBn', 'BaBnB', 'BaBnBB', 'BaBnBa', 'BaBnBn', 'BaBna', 'BaBnaB', 'BaBnaa', 'BaBnan', 'BaBnn', 'BaBnnB', 'BaBnna', 'BaBnnn', 'Baa', 'BaaB', 'BaaBB', 'BaaBBB', 'BaaBBa', 'BaaBBn', 'BaaBa', 'BaaBaB', 'BaaBaa', 'BaaBan', 'BaaBn', 'BaaBnB', 'BaaBna', 'BaaBnn', 'Baaa', 'BaaaB', 'BaaaBB', 'BaaaBa', 'BaaaBn', 'Baaaa', 'BaaaaB', 'Baaaaa', 'Baaaan', 'Baaan', 'BaaanB', 'Baaana', 'Baaann', 'Baan', 'BaanB', 'BaanBB', 'BaanBa', 'BaanBn', 'Baana', 'BaanaB', 'Baanaa', 'Baanan', 'Baann', 'BaannB', 'Baanna', 'Baannn', 'Ban', 'BanB', 'BanBB', 'BanBBB', 'BanBBa', 'BanBBn', 'BanBa', 'BanBaB', 'BanBaa', 'BanBan', 'BanBn', 'BanBnB', 'BanBna', 'BanBnn', 'Bana', 'BanaB', 'BanaBB', 'BanaBa', 'BanaBn', 'Banaa', 'BanaaB', 'Banaaa', 'Banaan', 'Banan', 'BananB', 'Banana', 'Banann', 'Bann', 'BannB', 'BannBB', 'BannBa', 'BannBn', 'Banna', 'BannaB', 'Bannaa', 'Bannan', 'Bannn', 'BannnB', 'Bannna', 'Bannnn', 'Bn', 'BnB', 'BnBB', 'BnBBB', 'BnBBBB', 'BnBBBa', 'BnBBBn', 'BnBBa', 'BnBBaB', 'BnBBaa', 'BnBBan', 'BnBBn', 'BnBBnB', 'BnBBna', 'BnBBnn', 'BnBa', 'BnBaB', 'BnBaBB', 'BnBaBa', 'BnBaBn', 'BnBaa', 'BnBaaB', 'BnBaaa', 'BnBaan', 'BnBan', 'BnBanB', 'BnBana', 'BnBann', 'BnBn', 'BnBnB', 'BnBnBB', 'BnBnBa', 'BnBnBn', 'BnBna', 'BnBnaB', 'BnBnaa', 'BnBnan', 'BnBnn', 'BnBnnB', 'BnBnna', 'BnBnnn', 'Bna', 'BnaB', 'BnaBB', 'BnaBBB', 'BnaBBa', 'BnaBBn', 'BnaBa', 'BnaBaB', 'BnaBaa', 'BnaBan', 'BnaBn', 'BnaBnB', 'BnaBna', 'BnaBnn', 'Bnaa', 'BnaaB', 'BnaaBB', 'BnaaBa', 'BnaaBn', 'Bnaaa', 'BnaaaB', 'Bnaaaa', 'Bnaaan', 'Bnaan', 'BnaanB', 'Bnaana', 'Bnaann', 'Bnan', 'BnanB', 'BnanBB', 'BnanBa', 'BnanBn', 'Bnana', 'BnanaB', 'Bnanaa', 'Bnanan', 'Bnann', 'BnannB', 'Bnanna', 'Bnannn', 'Bnn', 'BnnB', 'BnnBB', 'BnnBBB', 'BnnBBa', 'BnnBBn', 'BnnBa', 'BnnBaB', 'BnnBaa', 'BnnBan', 'BnnBn', 'BnnBnB', 'BnnBna', 'BnnBnn', 'Bnna', 'BnnaB', 'BnnaBB', 'BnnaBa', 'BnnaBn', 'Bnnaa', 'BnnaaB', 'Bnnaaa', 'Bnnaan', 'Bnnan', 'BnnanB', 'Bnnana', 'Bnnann', 'Bnnn', 'BnnnB', 'BnnnBB', 'BnnnBa', 'BnnnBn', 'Bnnna', 'BnnnaB', 'Bnnnaa', 'Bnnnan', 'Bnnnn', 'BnnnnB', 'Bnnnna', 'Bnnnnn', 'a', 'aB', 'aBB', 'aBBB', 'aBBBB', 'aBBBBB', 'aBBBBa', 'aBBBBn', 'aBBBa', 'aBBBaB', 'aBBBaa', 'aBBBan', 'aBBBn', 'aBBBnB', 'aBBBna', 'aBBBnn', 'aBBa', 'aBBaB', 'aBBaBB', 'aBBaBa', 'aBBaBn', 'aBBaa', 'aBBaaB', 'aBBaaa', 'aBBaan', 'aBBan', 'aBBanB', 'aBBana', 'aBBann', 'aBBn', 'aBBnB', 'aBBnBB', 'aBBnBa', 'aBBnBn', 'aBBna', 'aBBnaB', 'aBBnaa', 'aBBnan', 'aBBnn', 'aBBnnB', 'aBBnna', 'aBBnnn', 'aBa', 'aBaB', 'aBaBB', 'aBaBBB', 'aBaBBa', 'aBaBBn', 'aBaBa', 'aBaBaB', 'aBaBaa', 'aBaBan', 'aBaBn', 'aBaBnB', 'aBaBna', 'aBaBnn', 'aBaa', 'aBaaB', 'aBaaBB', 'aBaaBa', 'aBaaBn', 'aBaaa', 'aBaaaB', 'aBaaaa', 'aBaaan', 'aBaan', 'aBaanB', 'aBaana', 'aBaann', 'aBan', 'aBanB', 'aBanBB', 'aBanBa', 'aBanBn', 'aBana', 'aBanaB', 'aBanaa', 'aBanan', 'aBann', 'aBannB', 'aBanna', 'aBannn', 'aBn', 'aBnB', 'aBnBB', 'aBnBBB', 'aBnBBa', 'aBnBBn', 'aBnBa', 'aBnBaB', 'aBnBaa', 'aBnBan', 'aBnBn', 'aBnBnB', 'aBnBna', 'aBnBnn', 'aBna', 'aBnaB', 'aBnaBB', 'aBnaBa', 'aBnaBn', 'aBnaa', 'aBnaaB', 'aBnaaa', 'aBnaan', 'aBnan', 'aBnanB', 'aBnana', 'aBnann', 'aBnn', 'aBnnB', 'aBnnBB', 'aBnnBa', 'aBnnBn', 'aBnna', 'aBnnaB', 'aBnnaa', 'aBnnan', 'aBnnn', 'aBnnnB', 'aBnnna', 'aBnnnn', 'aa', 'aaB', 'aaBB', 'aaBBB', 'aaBBBB', 'aaBBBa', 'aaBBBn', 'aaBBa', 'aaBBaB', 'aaBBaa', 'aaBBan', 'aaBBn', 'aaBBnB', 'aaBBna', 'aaBBnn', 'aaBa', 'aaBaB', 'aaBaBB', 'aaBaBa', 'aaBaBn', 'aaBaa', 'aaBaaB', 'aaBaaa', 'aaBaan', 'aaBan', 'aaBanB', 'aaBana', 'aaBann', 'aaBn', 'aaBnB', 'aaBnBB', 'aaBnBa', 'aaBnBn', 'aaBna', 'aaBnaB', 'aaBnaa', 'aaBnan', 'aaBnn', 'aaBnnB', 'aaBnna', 'aaBnnn', 'aaa', 'aaaB', 'aaaBB', 'aaaBBB', 'aaaBBa', 'aaaBBn', 'aaaBa', 'aaaBaB', 'aaaBaa', 'aaaBan', 'aaaBn', 'aaaBnB', 'aaaBna', 'aaaBnn', 'aaaa', 'aaaaB', 'aaaaBB', 'aaaaBa', 'aaaaBn', 'aaaaa', 'aaaaaB', 'aaaaaa', 'aaaaan', 'aaaan', 'aaaanB', 'aaaana', 'aaaann', 'aaan', 'aaanB', 'aaanBB', 'aaanBa', 'aaanBn', 'aaana', 'aaanaB', 'aaanaa', 'aaanan', 'aaann', 'aaannB', 'aaanna', 'aaannn', 'aan', 'aanB', 'aanBB', 'aanBBB', 'aanBBa', 'aanBBn', 'aanBa', 'aanBaB', 'aanBaa', 'aanBan', 'aanBn', 'aanBnB', 'aanBna', 'aanBnn', 'aana', 'aanaB', 'aanaBB', 'aanaBa', 'aanaBn', 'aanaa', 'aanaaB', 'aanaaa', 'aanaan', 'aanan', 'aananB', 'aanana', 'aanann', 'aann', 'aannB', 'aannBB', 'aannBa', 'aannBn', 'aanna', 'aannaB', 'aannaa', 'aannan', 'aannn', 'aannnB', 'aannna', 'aannnn', 'an', 'anB', 'anBB', 'anBBB', 'anBBBB', 'anBBBa', 'anBBBn', 'anBBa', 'anBBaB', 'anBBaa', 'anBBan', 'anBBn', 'anBBnB', 'anBBna', 'anBBnn', 'anBa', 'anBaB', 'anBaBB', 'anBaBa', 'anBaBn', 'anBaa', 'anBaaB', 'anBaaa', 'anBaan', 'anBan', 'anBanB', 'anBana', 'anBann', 'anBn', 'anBnB', 'anBnBB', 'anBnBa', 'anBnBn', 'anBna', 'anBnaB', 'anBnaa', 'anBnan', 'anBnn', 'anBnnB', 'anBnna', 'anBnnn', 'ana', 'anaB', 'anaBB', 'anaBBB', 'anaBBa', 'anaBBn', 'anaBa', 'anaBaB', 'anaBaa', 'anaBan', 'anaBn', 'anaBnB', 'anaBna', 'anaBnn', 'anaa', 'anaaB', 'anaaBB', 'anaaBa', 'anaaBn', 'anaaa', 'anaaaB', 'anaaaa', 'anaaan', 'anaan', 'anaanB', 'anaana', 'anaann', 'anan', 'ananB', 'ananBB', 'ananBa', 'ananBn', 'anana', 'ananaB', 'ananaa', 'ananan', 'anann', 'anannB', 'ananna', 'anannn', 'ann', 'annB', 'annBB', 'annBBB', 'annBBa', 'annBBn', 'annBa', 'annBaB', 'annBaa', 'annBan', 'annBn', 'annBnB', 'annBna', 'annBnn', 'anna', 'annaB', 'annaBB', 'annaBa', 'annaBn', 'annaa', 'annaaB', 'annaaa', 'annaan', 'annan', 'annanB', 'annana', 'annann', 'annn', 'annnB', 'annnBB', 'annnBa', 'annnBn', 'annna', 'annnaB', 'annnaa', 'annnan', 'annnn', 'annnnB', 'annnna', 'annnnn', 'n', 'nB', 'nBB', 'nBBB', 'nBBBB', 'nBBBBB', 'nBBBBa', 'nBBBBn', 'nBBBa', 'nBBBaB', 'nBBBaa', 'nBBBan', 'nBBBn', 'nBBBnB', 'nBBBna', 'nBBBnn', 'nBBa', 'nBBaB', 'nBBaBB', 'nBBaBa', 'nBBaBn', 'nBBaa', 'nBBaaB', 'nBBaaa', 'nBBaan', 'nBBan', 'nBBanB', 'nBBana', 'nBBann', 'nBBn', 'nBBnB', 'nBBnBB', 'nBBnBa', 'nBBnBn', 'nBBna', 'nBBnaB', 'nBBnaa', 'nBBnan', 'nBBnn', 'nBBnnB', 'nBBnna', 'nBBnnn', 'nBa', 'nBaB', 'nBaBB', 'nBaBBB', 'nBaBBa', 'nBaBBn', 'nBaBa', 'nBaBaB', 'nBaBaa', 'nBaBan', 'nBaBn', 'nBaBnB', 'nBaBna', 'nBaBnn', 'nBaa', 'nBaaB', 'nBaaBB', 'nBaaBa', 'nBaaBn', 'nBaaa', 'nBaaaB', 'nBaaaa', 'nBaaan', 'nBaan', 'nBaanB', 'nBaana', 'nBaann', 'nBan', 'nBanB', 'nBanBB', 'nBanBa', 'nBanBn', 'nBana', 'nBanaB', 'nBanaa', 'nBanan', 'nBann', 'nBannB', 'nBanna', 'nBannn', 'nBn', 'nBnB', 'nBnBB', 'nBnBBB', 'nBnBBa', 'nBnBBn', 'nBnBa', 'nBnBaB', 'nBnBaa', 'nBnBan', 'nBnBn', 'nBnBnB', 'nBnBna', 'nBnBnn', 'nBna', 'nBnaB', 'nBnaBB', 'nBnaBa', 'nBnaBn', 'nBnaa', 'nBnaaB', 'nBnaaa', 'nBnaan', 'nBnan', 'nBnanB', 'nBnana', 'nBnann', 'nBnn', 'nBnnB', 'nBnnBB', 'nBnnBa', 'nBnnBn', 'nBnna', 'nBnnaB', 'nBnnaa', 'nBnnan', 'nBnnn', 'nBnnnB', 'nBnnna', 'nBnnnn', 'na', 'naB', 'naBB', 'naBBB', 'naBBBB', 'naBBBa', 'naBBBn', 'naBBa', 'naBBaB', 'naBBaa', 'naBBan', 'naBBn', 'naBBnB', 'naBBna', 'naBBnn', 'naBa', 'naBaB', 'naBaBB', 'naBaBa', 'naBaBn', 'naBaa', 'naBaaB', 'naBaaa', 'naBaan', 'naBan', 'naBanB', 'naBana', 'naBann', 'naBn', 'naBnB', 'naBnBB', 'naBnBa', 'naBnBn', 'naBna', 'naBnaB', 'naBnaa', 'naBnan', 'naBnn', 'naBnnB', 'naBnna', 'naBnnn', 'naa', 'naaB', 'naaBB', 'naaBBB', 'naaBBa', 'naaBBn', 'naaBa', 'naaBaB', 'naaBaa', 'naaBan', 'naaBn', 'naaBnB', 'naaBna', 'naaBnn', 'naaa', 'naaaB', 'naaaBB', 'naaaBa', 'naaaBn', 'naaaa', 'naaaaB', 'naaaaa', 'naaaan', 'naaan', 'naaanB', 'naaana', 'naaann', 'naan', 'naanB', 'naanBB', 'naanBa', 'naanBn', 'naana', 'naanaB', 'naanaa', 'naanan', 'naann', 'naannB', 'naanna', 'naannn', 'nan', 'nanB', 'nanBB', 'nanBBB', 'nanBBa', 'nanBBn', 'nanBa', 'nanBaB', 'nanBaa', 'nanBan', 'nanBn', 'nanBnB', 'nanBna', 'nanBnn', 'nana', 'nanaB', 'nanaBB', 'nanaBa', 'nanaBn', 'nanaa', 'nanaaB', 'nanaaa', 'nanaan', 'nanan', 'nananB', 'nanana', 'nanann', 'nann', 'nannB', 'nannBB', 'nannBa', 'nannBn', 'nanna', 'nannaB', 'nannaa', 'nannan', 'nannn', 'nannnB', 'nannna', 'nannnn', 'nn', 'nnB', 'nnBB', 'nnBBB', 'nnBBBB', 'nnBBBa', 'nnBBBn', 'nnBBa', 'nnBBaB', 'nnBBaa', 'nnBBan', 'nnBBn', 'nnBBnB', 'nnBBna', 'nnBBnn', 'nnBa', 'nnBaB', 'nnBaBB', 'nnBaBa', 'nnBaBn', 'nnBaa', 'nnBaaB', 'nnBaaa', 'nnBaan', 'nnBan', 'nnBanB', 'nnBana', 'nnBann', 'nnBn', 'nnBnB', 'nnBnBB', 'nnBnBa', 'nnBnBn', 'nnBna', 'nnBnaB', 'nnBnaa', 'nnBnan', 'nnBnn', 'nnBnnB', 'nnBnna', 'nnBnnn', 'nna', 'nnaB', 'nnaBB', 'nnaBBB', 'nnaBBa', 'nnaBBn', 'nnaBa', 'nnaBaB', 'nnaBaa', 'nnaBan', 'nnaBn', 'nnaBnB', 'nnaBna', 'nnaBnn', 'nnaa', 'nnaaB', 'nnaaBB', 'nnaaBa', 'nnaaBn', 'nnaaa', 'nnaaaB', 'nnaaaa', 'nnaaan', 'nnaan', 'nnaanB', 'nnaana', 'nnaann', 'nnan', 'nnanB', 'nnanBB', 'nnanBa', 'nnanBn', 'nnana', 'nnanaB', 'nnanaa', 'nnanan', 'nnann', 'nnannB', 'nnanna', 'nnannn', 'nnn', 'nnnB', 'nnnBB', 'nnnBBB', 'nnnBBa', 'nnnBBn', 'nnnBa', 'nnnBaB', 'nnnBaa', 'nnnBan', 'nnnBn', 'nnnBnB', 'nnnBna', 'nnnBnn', 'nnna', 'nnnaB', 'nnnaBB', 'nnnaBa', 'nnnaBn', 'nnnaa', 'nnnaaB', 'nnnaaa', 'nnnaan', 'nnnan', 'nnnanB', 'nnnana', 'nnnann', 'nnnn', 'nnnnB', 'nnnnBB', 'nnnnBa', 'nnnnBn', 'nnnna', 'nnnnaB', 'nnnnaa', 'nnnnan', 'nnnnn', 'nnnnnB', 'nnnnna', 'nnnnnn']\n"
     ]
    }
   ],
   "source": [
    "S = set1\n",
    "\n",
    "collect = set()\n",
    "step = set([''])\n",
    "while step:\n",
    "    step = set(a+b for a in step for b in S if len(a+b) <= 6)\n",
    "    collect |= step\n",
    "\n",
    "print (sorted(collect))"
   ]
  },
  {
   "cell_type": "code",
   "execution_count": 12,
   "metadata": {},
   "outputs": [
    {
     "name": "stdout",
     "output_type": "stream",
     "text": [
      "1092\n"
     ]
    }
   ],
   "source": [
    "count=0\n",
    "for i in collect:\n",
    "    count=count+1\n",
    "print(count)"
   ]
  },
  {
   "cell_type": "code",
   "execution_count": 9,
   "metadata": {},
   "outputs": [
    {
     "name": "stdout",
     "output_type": "stream",
     "text": [
      "()\n",
      "('B',)\n",
      "('n',)\n",
      "('a',)\n",
      "('B', 'n')\n",
      "('B', 'a')\n",
      "('n', 'a')\n",
      "('B', 'n', 'a')\n"
     ]
    }
   ],
   "source": [
    "import itertools\n",
    "\n",
    "S = [ 'a', 'ab', 'ba' ]\n",
    "\n",
    "for i in range(len(S)+1):\n",
    "    for c in itertools.combinations(S, i):\n",
    "        cc = ''.join(c)\n",
    "        if len(cc) <= 6:\n",
    "            print (c)"
   ]
  },
  {
   "cell_type": "code",
   "execution_count": 11,
   "metadata": {},
   "outputs": [
    {
     "name": "stdout",
     "output_type": "stream",
     "text": [
      "BANANA\n",
      "Stuart  12\n"
     ]
    }
   ],
   "source": [
    "s, v = input(), 'AEIOU'\n",
    "stuart, kevin, ln = 0, 0, len(s)\n",
    "\n",
    "for i in range(ln):  \n",
    "    if s[i] in v:\n",
    "        kevin += ln - i\n",
    "    else:\n",
    "        stuart += ln - i\n",
    "        \n",
    "if stuart > kevin:\n",
    "    print('Stuart ', stuart)\n",
    "elif stuart == kevin:\n",
    "    print('Draw')\n",
    "else:\n",
    "    print('Kevin ', kevin)"
   ]
  },
  {
   "cell_type": "code",
   "execution_count": 13,
   "metadata": {},
   "outputs": [
    {
     "name": "stdout",
     "output_type": "stream",
     "text": [
      "akshay\n"
     ]
    },
    {
     "data": {
      "text/plain": [
       "'akshay'"
      ]
     },
     "execution_count": 13,
     "metadata": {},
     "output_type": "execute_result"
    }
   ],
   "source": [
    "sin=input()\n",
    "sin"
   ]
  },
  {
   "cell_type": "code",
   "execution_count": 20,
   "metadata": {},
   "outputs": [
    {
     "name": "stdout",
     "output_type": "stream",
     "text": [
      "h\n",
      "k\n",
      "y\n",
      "s\n",
      "a\n"
     ]
    }
   ],
   "source": [
    "for j in set(sin):\n",
    "    print(j)"
   ]
  },
  {
   "cell_type": "markdown",
   "metadata": {},
   "source": [
    "-----------------------------------------------------------"
   ]
  },
  {
   "cell_type": "markdown",
   "metadata": {},
   "source": [
    "_________________________________________"
   ]
  },
  {
   "cell_type": "markdown",
   "metadata": {},
   "source": [
    "# MODULES"
   ]
  },
  {
   "cell_type": "code",
   "execution_count": null,
   "metadata": {},
   "outputs": [],
   "source": [
    "def convert_to_int(n):\n",
    "    x=int(n)\n",
    "    return x\n",
    "def convert_to_float(n):\n",
    "    y=float(n)\n",
    "    return y\n",
    "def addd(a,b):\n",
    "    return a+b\n",
    "def multiply(a,b):\n",
    "    return a*b\n"
   ]
  },
  {
   "cell_type": "markdown",
   "metadata": {},
   "source": [
    "## Standard Boiler Plate"
   ]
  },
  {
   "cell_type": "markdown",
   "metadata": {},
   "source": [
    "~~~~\n",
    "    if __name__=='__main__' :\n",
    "~~~~"
   ]
  },
  {
   "cell_type": "markdown",
   "metadata": {},
   "source": [
    "**Def** : A special line in a python program to separate a module and executeable."
   ]
  },
  {
   "cell_type": "code",
   "execution_count": 28,
   "metadata": {},
   "outputs": [
    {
     "name": "stdout",
     "output_type": "stream",
     "text": [
      "Hello\n",
      "__main__\n"
     ]
    }
   ],
   "source": [
    "if __name__=='__main__':\n",
    "    print(\"Hello\")\n",
    "    print(__name__)"
   ]
  },
  {
   "cell_type": "code",
   "execution_count": 32,
   "metadata": {},
   "outputs": [
    {
     "name": "stdout",
     "output_type": "stream",
     "text": [
      "enter the number:123456\n",
      "123456\n"
     ]
    }
   ],
   "source": [
    "num=list(map(int,input(\"enter the number:\").split()))\n",
    "sum = 0\n",
    "for i in num:\n",
    "    sum= sum + i\n",
    "print(sum)"
   ]
  },
  {
   "cell_type": "markdown",
   "metadata": {},
   "source": [
    "# Errors"
   ]
  },
  {
   "cell_type": "markdown",
   "metadata": {},
   "source": [
    " 1. Syntax Error:\n",
    " 2. Runtime Error:\n",
    " 3. Logical Error:"
   ]
  },
  {
   "cell_type": "markdown",
   "metadata": {},
   "source": [
    "**Try/Except**:\n",
    "\n"
   ]
  },
  {
   "cell_type": "code",
   "execution_count": 38,
   "metadata": {},
   "outputs": [
    {
     "name": "stdout",
     "output_type": "stream",
     "text": [
      "Enter a number: 0\n",
      "Please enter non-zero values \n",
      "Enter a number0\n",
      "Rehne de Pratik BC \n"
     ]
    },
    {
     "ename": "NameError",
     "evalue": "name 'result1' is not defined",
     "output_type": "error",
     "traceback": [
      "\u001b[0;31m---------------------------------------------------------------------------\u001b[0m",
      "\u001b[0;31mNameError\u001b[0m                                 Traceback (most recent call last)",
      "\u001b[0;32m<ipython-input-38-9131f644d850>\u001b[0m in \u001b[0;36m<module>\u001b[0;34m()\u001b[0m\n\u001b[1;32m      9\u001b[0m     \u001b[0;32mexcept\u001b[0m \u001b[0mZeroDivisionError\u001b[0m\u001b[0;34m:\u001b[0m\u001b[0;34m\u001b[0m\u001b[0m\n\u001b[1;32m     10\u001b[0m         \u001b[0mprint\u001b[0m\u001b[0;34m(\u001b[0m\u001b[0;34m\"Rehne de Pratik BC \"\u001b[0m\u001b[0;34m)\u001b[0m\u001b[0;34m\u001b[0m\u001b[0m\n\u001b[0;32m---> 11\u001b[0;31m \u001b[0mprint\u001b[0m\u001b[0;34m(\u001b[0m\u001b[0mresult1\u001b[0m\u001b[0;34m)\u001b[0m\u001b[0;34m\u001b[0m\u001b[0m\n\u001b[0m",
      "\u001b[0;31mNameError\u001b[0m: name 'result1' is not defined"
     ]
    }
   ],
   "source": [
    "n=int(input(\"Enter a number: \"))\n",
    "try:\n",
    "    result1=100/n\n",
    "except ZeroDivisionError:\n",
    "    print(\"Please enter non-zero values \")\n",
    "    try:\n",
    "        n=int(input(\"Enter a number\"))\n",
    "        result1 =100/n\n",
    "    except ZeroDivisionError:\n",
    "        print(\"Rehne de Pratik BC \")\n",
    "print(result1)"
   ]
  },
  {
   "cell_type": "code",
   "execution_count": null,
   "metadata": {},
   "outputs": [],
   "source": [
    "import convert_int\n",
    "try:\n",
    "    print(covert_int.convert_to_int([1,2,3,4]))\n",
    "except ValueError as e:\n",
    "    print('Invalid value-->',e)\n",
    "except Exception as e:\n",
    "    print(e)\n",
    "except:\n",
    "    print(\"This is more generic\")"
   ]
  },
  {
   "cell_type": "code",
   "execution_count": 35,
   "metadata": {},
   "outputs": [
    {
     "name": "stdout",
     "output_type": "stream",
     "text": [
      "15600.0\n"
     ]
    }
   ],
   "source": [
    "#I/O Error\n",
    "try:\n",
    "    with open('/home/student/AnacondaPY/ExceptionTest.txt','r') as file:\n",
    "        salaries=[]\n",
    "        for rec in file.readlines():\n",
    "            salaries.append(int(rec.split(',')[3]))\n",
    "        print(sum(salaries)/len(salaries))\n",
    "except Exception as err :\n",
    "    print(err)"
   ]
  },
  {
   "cell_type": "code",
   "execution_count": 34,
   "metadata": {},
   "outputs": [
    {
     "name": "stdout",
     "output_type": "stream",
     "text": [
      "15600.0\n"
     ]
    }
   ],
   "source": [
    "try:\n",
    "    with open('/home/student/AnacondaPY/ExceptionTest.txt','r') as file:\n",
    "        salaries=[]\n",
    "        for rec in file:\n",
    "            salaries.append(int(rec.split(',')[3]))\n",
    "        print(sum(salaries)/len(salaries))\n",
    "except Exception as err:\n",
    "    print(err)"
   ]
  },
  {
   "cell_type": "markdown",
   "metadata": {},
   "source": [
    "# Regular Expresssions"
   ]
  },
  {
   "cell_type": "markdown",
   "metadata": {},
   "source": [
    " 1. For generic search\n",
    " 2. Used for data filtration, data cleaning and data transformation\n",
    " 3. Regex is used for complex searches.\n",
    " 4. Mostly regex operates on string..Identify the pattern first.\n",
    " 5. Some characters are special metacharacters.\n",
    " 6. ^.$*+?{}[]\\|()"
   ]
  },
  {
   "cell_type": "code",
   "execution_count": 37,
   "metadata": {},
   "outputs": [
    {
     "data": {
      "text/plain": [
       "_sre.SRE_Match"
      ]
     },
     "execution_count": 37,
     "metadata": {},
     "output_type": "execute_result"
    }
   ],
   "source": [
    "import re\n",
    "s='cookies'\n",
    "m=re.search('cookies',s)\n",
    "type(m)"
   ]
  },
  {
   "cell_type": "markdown",
   "metadata": {},
   "source": [
    "**'.'\n",
    "(Dot.)** In the default mode, this matches any character except a newline. If the DOTALL flag has been specified, this matches any character including a newline.<br>\n",
    "\n",
    "**'^'\n",
    "(Caret.)** Matches the start of the string, and in MULTILINE mode also matches immediately after each newline.<br>\n"
   ]
  },
  {
   "cell_type": "markdown",
   "metadata": {},
   "source": [
    "### Functions In RE Module\n",
    "**Search** : Scans forwards through the string and report the first match it found<br>\n",
    "**Match** : Checks if the RE matches at the begining of the string.<br>\n"
   ]
  },
  {
   "cell_type": "code",
   "execution_count": 39,
   "metadata": {},
   "outputs": [],
   "source": [
    "s='I like cookizs'\n",
    "m=re.match('cooki.s',s)\n",
    "m"
   ]
  },
  {
   "cell_type": "code",
   "execution_count": 40,
   "metadata": {},
   "outputs": [
    {
     "data": {
      "text/plain": [
       "<_sre.SRE_Match object; span=(0, 7), match='cookizs'>"
      ]
     },
     "execution_count": 40,
     "metadata": {},
     "output_type": "execute_result"
    }
   ],
   "source": [
    "s='cookizs i like'\n",
    "n=re.match('cooki.s',s)\n",
    "n"
   ]
  },
  {
   "cell_type": "code",
   "execution_count": 41,
   "metadata": {},
   "outputs": [
    {
     "data": {
      "text/plain": [
       "['cookies', 'cookizs']"
      ]
     },
     "execution_count": 41,
     "metadata": {},
     "output_type": "execute_result"
    }
   ],
   "source": [
    "s='i like cookies and cookizs'\n",
    "m=re.findall('cooki.s',s)\n",
    "m"
   ]
  },
  {
   "cell_type": "markdown",
   "metadata": {},
   "source": [
    "**[]**\n",
    "Used to indicate a set of characters. In a set:"
   ]
  },
  {
   "cell_type": "code",
   "execution_count": 83,
   "metadata": {},
   "outputs": [
    {
     "data": {
      "text/plain": [
       "<_sre.SRE_Match object; span=(19, 20), match='8'>"
      ]
     },
     "execution_count": 83,
     "metadata": {},
     "output_type": "execute_result"
    }
   ],
   "source": [
    "s='my mobile numbe is 8657993382'\n",
    "m=re.search('[0-9]',s)\n",
    "m"
   ]
  },
  {
   "cell_type": "code",
   "execution_count": 45,
   "metadata": {},
   "outputs": [
    {
     "data": {
      "text/plain": [
       "'8'"
      ]
     },
     "execution_count": 45,
     "metadata": {},
     "output_type": "execute_result"
    }
   ],
   "source": [
    "m.group()"
   ]
  },
  {
   "cell_type": "code",
   "execution_count": 46,
   "metadata": {},
   "outputs": [
    {
     "data": {
      "text/plain": [
       "<_sre.SRE_Match object; span=(0, 1), match='m'>"
      ]
     },
     "execution_count": 46,
     "metadata": {},
     "output_type": "execute_result"
    }
   ],
   "source": [
    "m=re.search('[a-z]',s)\n",
    "m"
   ]
  },
  {
   "cell_type": "code",
   "execution_count": 48,
   "metadata": {},
   "outputs": [
    {
     "data": {
      "text/plain": [
       "'my'"
      ]
     },
     "execution_count": 48,
     "metadata": {},
     "output_type": "execute_result"
    }
   ],
   "source": [
    "m.group()"
   ]
  },
  {
   "cell_type": "code",
   "execution_count": 47,
   "metadata": {},
   "outputs": [
    {
     "data": {
      "text/plain": [
       "<_sre.SRE_Match object; span=(0, 2), match='my'>"
      ]
     },
     "execution_count": 47,
     "metadata": {},
     "output_type": "execute_result"
    }
   ],
   "source": [
    "m=re.search('[a-z]+',s)\n",
    "m"
   ]
  },
  {
   "cell_type": "code",
   "execution_count": 49,
   "metadata": {},
   "outputs": [
    {
     "data": {
      "text/plain": [
       "'my'"
      ]
     },
     "execution_count": 49,
     "metadata": {},
     "output_type": "execute_result"
    }
   ],
   "source": [
    "m.group()"
   ]
  },
  {
   "cell_type": "code",
   "execution_count": 50,
   "metadata": {},
   "outputs": [
    {
     "data": {
      "text/plain": [
       "<_sre.SRE_Match object; span=(6, 7), match='i'>"
      ]
     },
     "execution_count": 50,
     "metadata": {},
     "output_type": "execute_result"
    }
   ],
   "source": [
    "m=re.search('[i]',s)\n",
    "m"
   ]
  },
  {
   "cell_type": "code",
   "execution_count": 51,
   "metadata": {},
   "outputs": [
    {
     "data": {
      "text/plain": [
       "'i'"
      ]
     },
     "execution_count": 51,
     "metadata": {},
     "output_type": "execute_result"
    }
   ],
   "source": [
    "m.group()"
   ]
  },
  {
   "cell_type": "code",
   "execution_count": 52,
   "metadata": {},
   "outputs": [
    {
     "data": {
      "text/plain": [
       "<_sre.SRE_Match object; span=(2, 4), match='is'>"
      ]
     },
     "execution_count": 52,
     "metadata": {},
     "output_type": "execute_result"
    }
   ],
   "source": [
    "s='this is my string'\n",
    "m=re.search('is',s)\n",
    "m"
   ]
  },
  {
   "cell_type": "code",
   "execution_count": 53,
   "metadata": {},
   "outputs": [
    {
     "data": {
      "text/plain": [
       "2"
      ]
     },
     "execution_count": 53,
     "metadata": {},
     "output_type": "execute_result"
    }
   ],
   "source": [
    "m.start()"
   ]
  },
  {
   "cell_type": "code",
   "execution_count": 54,
   "metadata": {},
   "outputs": [
    {
     "data": {
      "text/plain": [
       "4"
      ]
     },
     "execution_count": 54,
     "metadata": {},
     "output_type": "execute_result"
    }
   ],
   "source": [
    "m.end()"
   ]
  },
  {
   "cell_type": "code",
   "execution_count": 55,
   "metadata": {},
   "outputs": [
    {
     "data": {
      "text/plain": [
       "<_sre.SRE_Match object; span=(4, 7), match=' is'>"
      ]
     },
     "execution_count": 55,
     "metadata": {},
     "output_type": "execute_result"
    }
   ],
   "source": [
    "m=re.search('\\ is',s)\n",
    "m"
   ]
  },
  {
   "cell_type": "code",
   "execution_count": 56,
   "metadata": {},
   "outputs": [
    {
     "data": {
      "text/plain": [
       "['his', ' is']"
      ]
     },
     "execution_count": 56,
     "metadata": {},
     "output_type": "execute_result"
    }
   ],
   "source": [
    "m=re.findall('.is',s)\n",
    "m"
   ]
  },
  {
   "cell_type": "code",
   "execution_count": 57,
   "metadata": {},
   "outputs": [
    {
     "data": {
      "text/plain": [
       "['is', 'is']"
      ]
     },
     "execution_count": 57,
     "metadata": {},
     "output_type": "execute_result"
    }
   ],
   "source": [
    "m=re.findall('is',s)\n",
    "m"
   ]
  },
  {
   "cell_type": "code",
   "execution_count": 59,
   "metadata": {},
   "outputs": [
    {
     "data": {
      "text/plain": [
       "'this is my string'"
      ]
     },
     "execution_count": 59,
     "metadata": {},
     "output_type": "execute_result"
    }
   ],
   "source": [
    "s"
   ]
  },
  {
   "cell_type": "code",
   "execution_count": 62,
   "metadata": {},
   "outputs": [
    {
     "data": {
      "text/plain": [
       "<_sre.SRE_Match object; span=(19, 23), match='+91 '>"
      ]
     },
     "execution_count": 62,
     "metadata": {},
     "output_type": "execute_result"
    }
   ],
   "source": [
    "s='my mobile numbe is +91 8657993382'\n",
    "m=re.search('\\+91\\ ',s)\n",
    "m"
   ]
  },
  {
   "cell_type": "code",
   "execution_count": 63,
   "metadata": {},
   "outputs": [
    {
     "data": {
      "text/plain": [
       "'+91 '"
      ]
     },
     "execution_count": 63,
     "metadata": {},
     "output_type": "execute_result"
    }
   ],
   "source": [
    "m.group()"
   ]
  },
  {
   "cell_type": "code",
   "execution_count": 68,
   "metadata": {},
   "outputs": [
    {
     "data": {
      "text/plain": [
       "<_sre.SRE_Match object; span=(19, 24), match='+91 8'>"
      ]
     },
     "execution_count": 68,
     "metadata": {},
     "output_type": "execute_result"
    }
   ],
   "source": [
    "s='my mobile numbe is +91 8657993382'\n",
    "m=re.search('\\+91\\ [0-9]',s)\n",
    "m"
   ]
  },
  {
   "cell_type": "code",
   "execution_count": 69,
   "metadata": {},
   "outputs": [
    {
     "data": {
      "text/plain": [
       "'+91 8'"
      ]
     },
     "execution_count": 69,
     "metadata": {},
     "output_type": "execute_result"
    }
   ],
   "source": [
    "m.group()"
   ]
  },
  {
   "cell_type": "code",
   "execution_count": null,
   "metadata": {},
   "outputs": [],
   "source": []
  },
  {
   "cell_type": "code",
   "execution_count": 84,
   "metadata": {},
   "outputs": [
    {
     "data": {
      "text/plain": [
       "<_sre.SRE_Match object; span=(19, 33), match='+91 8657993382'>"
      ]
     },
     "execution_count": 84,
     "metadata": {},
     "output_type": "execute_result"
    }
   ],
   "source": [
    "s='my mobile numbe is +91 8657993382'\n",
    "m=re.search('\\+91\\ [0-9]+',s)\n",
    "m"
   ]
  },
  {
   "cell_type": "code",
   "execution_count": 85,
   "metadata": {},
   "outputs": [
    {
     "data": {
      "text/plain": [
       "'+91 8657993382'"
      ]
     },
     "execution_count": 85,
     "metadata": {},
     "output_type": "execute_result"
    }
   ],
   "source": [
    "m.group()"
   ]
  },
  {
   "cell_type": "code",
   "execution_count": 86,
   "metadata": {},
   "outputs": [
    {
     "data": {
      "text/plain": [
       "<_sre.SRE_Match object; span=(19, 33), match='+91 8657993382'>"
      ]
     },
     "execution_count": 86,
     "metadata": {},
     "output_type": "execute_result"
    }
   ],
   "source": [
    "s='my mobile numbe is +91 8657993382'\n",
    "m=re.search('\\+91\\ \\d+', s)\n",
    "m"
   ]
  },
  {
   "cell_type": "code",
   "execution_count": 87,
   "metadata": {},
   "outputs": [
    {
     "data": {
      "text/plain": [
       "'+91 8657993382'"
      ]
     },
     "execution_count": 87,
     "metadata": {},
     "output_type": "execute_result"
    }
   ],
   "source": [
    "m.group()"
   ]
  },
  {
   "cell_type": "code",
   "execution_count": 88,
   "metadata": {},
   "outputs": [
    {
     "data": {
      "text/plain": [
       "<_sre.SRE_Match object; span=(0, 6), match='abc123'>"
      ]
     },
     "execution_count": 88,
     "metadata": {},
     "output_type": "execute_result"
    }
   ],
   "source": [
    "s='abc123 and not 123xyz'\n",
    "m=re.search('[a-z0-9]+',s)\n",
    "m"
   ]
  },
  {
   "cell_type": "code",
   "execution_count": 89,
   "metadata": {},
   "outputs": [
    {
     "data": {
      "text/plain": [
       "['abc123', 'and', 'not', '123xyz']"
      ]
     },
     "execution_count": 89,
     "metadata": {},
     "output_type": "execute_result"
    }
   ],
   "source": [
    "s='abc123 and not 123xyz'\n",
    "m=re.findall('[a-z0-9]+',s)\n",
    "m"
   ]
  },
  {
   "cell_type": "code",
   "execution_count": 90,
   "metadata": {},
   "outputs": [
    {
     "data": {
      "text/plain": [
       "'abc123 and not 123xyz'"
      ]
     },
     "execution_count": 90,
     "metadata": {},
     "output_type": "execute_result"
    }
   ],
   "source": [
    "s"
   ]
  },
  {
   "cell_type": "code",
   "execution_count": 91,
   "metadata": {},
   "outputs": [
    {
     "data": {
      "text/plain": [
       "<_sre.SRE_Match object; span=(12, 13), match='o'>"
      ]
     },
     "execution_count": 91,
     "metadata": {},
     "output_type": "execute_result"
    }
   ],
   "source": [
    "m=re.search('[eiou]+',s)\n",
    "m"
   ]
  },
  {
   "cell_type": "code",
   "execution_count": 92,
   "metadata": {},
   "outputs": [
    {
     "data": {
      "text/plain": [
       "'o'"
      ]
     },
     "execution_count": 92,
     "metadata": {},
     "output_type": "execute_result"
    }
   ],
   "source": [
    "m.group()"
   ]
  },
  {
   "cell_type": "code",
   "execution_count": 93,
   "metadata": {},
   "outputs": [],
   "source": [
    "s='my ip is 192.168.1.1'\n",
    "m=re.search('\\d+\\.\\d+\\.\\d+\\.\\d+',s)"
   ]
  },
  {
   "cell_type": "code",
   "execution_count": 94,
   "metadata": {},
   "outputs": [
    {
     "data": {
      "text/plain": [
       "<_sre.SRE_Match object; span=(9, 20), match='192.168.1.1'>"
      ]
     },
     "execution_count": 94,
     "metadata": {},
     "output_type": "execute_result"
    }
   ],
   "source": [
    "m"
   ]
  },
  {
   "cell_type": "code",
   "execution_count": 97,
   "metadata": {},
   "outputs": [
    {
     "data": {
      "text/plain": [
       "<_sre.SRE_Match object; span=(9, 20), match='192.168.1.1'>"
      ]
     },
     "execution_count": 97,
     "metadata": {},
     "output_type": "execute_result"
    }
   ],
   "source": [
    "s='my ip is 192.168.1.1'\n",
    "m=re.search('[0-9]+\\.[0-9]+\\.[0-9]+\\.[0-9]+',s)\n",
    "m"
   ]
  },
  {
   "cell_type": "code",
   "execution_count": 33,
   "metadata": {},
   "outputs": [
    {
     "name": "stdout",
     "output_type": "stream",
     "text": [
      "enter email idterode@g.com\n"
     ]
    },
    {
     "data": {
      "text/plain": [
       "True"
      ]
     },
     "execution_count": 33,
     "metadata": {},
     "output_type": "execute_result"
    }
   ],
   "source": [
    "#Assignment WA \"validate_email()\" Function which will return true if eamil address passed to function is a valid email address\n",
    "import re\n",
    "def validate_eamil(email_add):\n",
    "    m=re.search('[a-z0-9._]+@[a-z0-9._]',email_add)\n",
    "    if m :\n",
    "        return True\n",
    "    else:\n",
    "        return False\n",
    "var=input(\"enter email id\")\n",
    "validate_eamil(var)"
   ]
  },
  {
   "cell_type": "code",
   "execution_count": 3,
   "metadata": {},
   "outputs": [
    {
     "ename": "SyntaxError",
     "evalue": "invalid syntax (<ipython-input-3-1c54f7f1baba>, line 15)",
     "output_type": "error",
     "traceback": [
      "\u001b[0;36m  File \u001b[0;32m\"<ipython-input-3-1c54f7f1baba>\"\u001b[0;36m, line \u001b[0;32m15\u001b[0m\n\u001b[0;31m    elif n and n1:\u001b[0m\n\u001b[0m       ^\u001b[0m\n\u001b[0;31mSyntaxError\u001b[0m\u001b[0;31m:\u001b[0m invalid syntax\n"
     ]
    }
   ],
   "source": [
    "#Password Validator\n",
    "'''\n",
    "Password Should\n",
    "    -> atleast 1 char\n",
    "    -> atleast 1 special char\n",
    "    -> length more than 8\n",
    "    -> at least 1 number\n",
    "'''\n",
    "\n",
    "import re\n",
    "def validate_pwd(pwd):\n",
    "    if len(pwd) >= 8:\n",
    "        n=re.search('[a-z!@#$%^&*()_~.0-9]',pwd)\n",
    "        n1=re.search('[A-Z]',pwd)\n",
    "        elif (n and n1):\n",
    "            return True\n",
    "    else:\n",
    "        return False\n",
    "pwd=input(\"pwd\")\n",
    "validate_pwd(pwd)"
   ]
  },
  {
   "cell_type": "code",
   "execution_count": null,
   "metadata": {},
   "outputs": [],
   "source": []
  },
  {
   "cell_type": "code",
   "execution_count": null,
   "metadata": {},
   "outputs": [],
   "source": []
  },
  {
   "cell_type": "code",
   "execution_count": null,
   "metadata": {},
   "outputs": [],
   "source": []
  }
 ],
 "metadata": {
  "kernelspec": {
   "display_name": "Python 3",
   "language": "python",
   "name": "python3"
  },
  "language_info": {
   "codemirror_mode": {
    "name": "ipython",
    "version": 3
   },
   "file_extension": ".py",
   "mimetype": "text/x-python",
   "name": "python",
   "nbconvert_exporter": "python",
   "pygments_lexer": "ipython3",
   "version": "3.6.5"
  }
 },
 "nbformat": 4,
 "nbformat_minor": 2
}
