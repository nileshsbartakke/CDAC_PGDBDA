{
 "cells": [
  {
   "cell_type": "markdown",
   "metadata": {},
   "source": [
    "# CLOSURES:\n",
    "**DEF ->** Closure is a function which rememebers the values in enclosing funtion even if they are not present in memory.<br>\n",
    "~~~~\n",
    "def outerFunction(text): \n",
    "    text = text \n",
    "  \n",
    "    def innerFunction(): \n",
    "        print(text) \n",
    "  \n",
    "    innerFunction() \n",
    "  \n",
    "if __name__ == '__main__': \n",
    "    outerFunction('Hey!') \n",
    "~~~~"
   ]
  },
  {
   "cell_type": "code",
   "execution_count": 4,
   "metadata": {},
   "outputs": [
    {
     "name": "stdout",
     "output_type": "stream",
     "text": [
      "Hey!\n"
     ]
    }
   ],
   "source": [
    "def outerFunction(text): \n",
    "    text = text \n",
    "  \n",
    "    def innerFunction(): \n",
    "        print(text) \n",
    "  \n",
    "    innerFunction() \n",
    "  \n",
    "if __name__ == '__main__': \n",
    "    outerFunction('Hey!') "
   ]
  },
  {
   "cell_type": "markdown",
   "metadata": {},
   "source": [
    "func() : is a function call <br>\n",
    "x=fun : is calling function object<br>"
   ]
  },
  {
   "cell_type": "code",
   "execution_count": 5,
   "metadata": {},
   "outputs": [
    {
     "name": "stdout",
     "output_type": "stream",
     "text": [
      "0x561ddbb71b40 0x561ddbb71b00\n",
      "68\n",
      "19\n",
      "(<cell at 0x7f553c312dc8: int object at 0x561ddbb71b00>, <cell at 0x7f553c312e58: int object at 0x561ddbb71b40>)\n",
      "25 125\n"
     ]
    }
   ],
   "source": [
    "def outer():\n",
    "    x=10\n",
    "    a=8\n",
    "    b=0\n",
    "    print(hex(id(x)),hex(id(a)))\n",
    "    def inner(y):\n",
    "        return x+y+a\n",
    "    print(inner(50))\n",
    "    return inner \n",
    "local_fun=outer()\n",
    "print(local_fun(1))\n",
    "print(local_fun.__closure__)\n",
    "\n",
    "def raise_to(exp):\n",
    "    def raise_to_exp(x):\n",
    "        return pow(x,exp)\n",
    "    return raise_to_exp\n",
    "\n",
    "square=raise_to(2)\n",
    "cube=raise_to(3)\n",
    "print(square(5),cube(5))"
   ]
  },
  {
   "cell_type": "markdown",
   "metadata": {},
   "source": [
    "# How to create a closure function ?\n",
    "\n",
    "**1. We must have a nested function**<br>\n",
    "**2. The nested function must refer to value defined in the enclosing function**<br>\n",
    "**3. Enclosing function must return the nested function.**<br>"
   ]
  },
  {
   "cell_type": "markdown",
   "metadata": {},
   "source": [
    "# OOPS"
   ]
  },
  {
   "cell_type": "code",
   "execution_count": 8,
   "metadata": {},
   "outputs": [
    {
     "name": "stdout",
     "output_type": "stream",
     "text": [
      "26.389378290154262\n"
     ]
    }
   ],
   "source": [
    "from math import pi\n",
    "\n",
    "def calc_area(radius):\n",
    "    return pi*radius**2\n",
    "def calc_circumference(radius):\n",
    "    return 2*pi*radius\n",
    "\n",
    "circle1_name='c1'\n",
    "circle1_radius=4.2\n",
    "\n",
    "circle1_circumference = calc_circumference(circle1_radius)\n",
    "print(circle1_circumference)"
   ]
  },
  {
   "cell_type": "code",
   "execution_count": 10,
   "metadata": {},
   "outputs": [
    {
     "name": "stdout",
     "output_type": "stream",
     "text": [
      "26.389378290154262\n"
     ]
    }
   ],
   "source": [
    "class Circle:\n",
    "    pass\n",
    "\n",
    "circle1=Circle()\n",
    "circle2=Circle()\n",
    "circle1.radius=4.2\n",
    "circle1.name='C1'\n",
    "\n",
    "print(calc_circumference(circle1.radius))"
   ]
  },
  {
   "cell_type": "code",
   "execution_count": 21,
   "metadata": {},
   "outputs": [
    {
     "name": "stdout",
     "output_type": "stream",
     "text": [
      "C1 0 C2 0\n",
      "[0.0, 0.0, 0.0, 0.0, 0.0, 0.0, 0.0, 0.0, 0.0, 0.0]\n"
     ]
    }
   ],
   "source": [
    "import random\n",
    "class Circle:\n",
    "    radius=0\n",
    "\n",
    "circle1=Circle()\n",
    "circle2=Circle()\n",
    "circle1.name='C1'\n",
    "circle2.name='C2'\n",
    "circle1.color=\"Blue\"\n",
    "print(circle1.name,circle1.radius,circle2.name,circle2.radius)\n",
    "\n",
    "circumference=[]\n",
    "for i in range(10):\n",
    "    circle=Circle()\n",
    "    circle.radius=random.uniform(1.1,5.1)\n",
    "    circumference.append(calc_circumference(circle2.radius))\n",
    "print(circumference)"
   ]
  },
  {
   "cell_type": "code",
   "execution_count": 105,
   "metadata": {},
   "outputs": [
    {
     "name": "stdout",
     "output_type": "stream",
     "text": [
      "C1 0 C2 0\n",
      "[30.707532418965528, 11.717835100318895, 27.711278416716205, 7.039203210847858, 14.210650039731977, 12.03444804568751, 28.81530907460553, 24.40198773773594, 14.605953625256523, 16.64478003760946]\n",
      "CPU times: user 242 µs, sys: 39 µs, total: 281 µs\n",
      "Wall time: 319 µs\n"
     ]
    }
   ],
   "source": [
    "%%time\n",
    "import random\n",
    "from math import pi\n",
    "class Circle:\n",
    "    radius=0\n",
    "    def calc_circumference(self):\n",
    "        return 2*pi*self.radius\n",
    "    def calc_area(self):\n",
    "        return pi*self.radius**2\n",
    "circle1=Circle()\n",
    "circle2=Circle()\n",
    "circle1.name='C1'\n",
    "circle2.name='C2'\n",
    "circle1.color=\"Blue\"\n",
    "print(circle1.name,circle1.radius,circle2.name,circle2.radius)\n",
    "\n",
    "circle=Circle()    \n",
    "circumference=[]\n",
    "for i in range(10):\n",
    "    circle.radius=random.uniform(1.1,5.1)\n",
    "    circumference.append(circle.calc_circumference())\n",
    "print(circumference)"
   ]
  },
  {
   "cell_type": "markdown",
   "metadata": {},
   "source": [
    "## self\n",
    "1. self is a reference to calling object \n",
    "2. self is  always a first arguement of clas methods\n"
   ]
  },
  {
   "cell_type": "code",
   "execution_count": 63,
   "metadata": {},
   "outputs": [
    {
     "name": "stdout",
     "output_type": "stream",
     "text": [
      "4\n",
      "4\n",
      "5\n"
     ]
    }
   ],
   "source": [
    "class Car:\n",
    "    wheels=4\n",
    "    steering_type='Manual'\n",
    "audi=Car()\n",
    "merc=Car()\n",
    "\n",
    "print(audi.wheels)\n",
    "\n",
    "print(merc.wheels)\n",
    "merc.wheels=5\n",
    "print(merc.wheels)"
   ]
  },
  {
   "cell_type": "code",
   "execution_count": 68,
   "metadata": {},
   "outputs": [
    {
     "name": "stdout",
     "output_type": "stream",
     "text": [
      "4\n",
      "4\n",
      "5\n",
      "4\n",
      "Car is moving in left direction\n",
      "left\n"
     ]
    }
   ],
   "source": [
    "class Car:\n",
    "    wheels=4\n",
    "    steering_type='Manual'\n",
    "    def move_steering(self,direction):\n",
    "        self.direction=direction\n",
    "        print('Car is moving in {} direction'.format(direction))\n",
    "        \n",
    "audi=Car()\n",
    "merc=Car()\n",
    "\n",
    "print(audi.wheels)\n",
    "\n",
    "print(merc.wheels)\n",
    "merc.wheels=5\n",
    "print(merc.wheels)\n",
    "nano=Car()\n",
    "print(nano.wheels)\n",
    "nano.move_steering('left')\n",
    "print(nano.direction)"
   ]
  },
  {
   "cell_type": "code",
   "execution_count": 81,
   "metadata": {},
   "outputs": [
    {
     "name": "stdout",
     "output_type": "stream",
     "text": [
      "0\n",
      "IT\n",
      "0\n",
      "Test\n"
     ]
    }
   ],
   "source": [
    "class Employee:\n",
    "    emp_id=0\n",
    "    designation='IT'\n",
    "    def set_designation(self,designation):\n",
    "        #designation='Test'\n",
    "        self.designation=designation\n",
    "        \n",
    "\n",
    "if __name__=='__main__':\n",
    "    emp1=Employee()\n",
    "    print(emp1.emp_id)\n",
    "    print(emp1.designation)\n",
    "    emp1.set_designation('Manager')\n",
    "    print(emp1.emp_id)\n",
    "    print(emp1.designation)"
   ]
  },
  {
   "cell_type": "code",
   "execution_count": 101,
   "metadata": {},
   "outputs": [
    {
     "name": "stdout",
     "output_type": "stream",
     "text": [
      "454\n",
      "Manager\n",
      "Aakash\n"
     ]
    }
   ],
   "source": [
    "class Employee:\n",
    "    emp_id=0\n",
    "    #designation='IT'\n",
    "    def __init__(self,name):\n",
    "        self.emp_id=random.randint(100,1000)\n",
    "        self.name=name\n",
    "    def set_designation(self,designation):\n",
    "        #designation='Test'\n",
    "        self.designation=designation\n",
    "        \n",
    "\n",
    "if __name__=='__main__':\n",
    "    emp1=Employee('Aakash')\n",
    "    #print(emp1.emp_id)\n",
    "    #print(emp1.designation)\n",
    "    emp1.set_designation('Manager')\n",
    "    print(emp1.emp_id)\n",
    "    print(emp1.designation)\n",
    "    print(emp1.name)"
   ]
  },
  {
   "cell_type": "code",
   "execution_count": 104,
   "metadata": {},
   "outputs": [
    {
     "name": "stdout",
     "output_type": "stream",
     "text": [
      "C1 5.076344907699726 C2 1.5354328227682261\n",
      "[31.659400039206947, 31.659400039206947, 31.659400039206947, 31.659400039206947, 31.659400039206947, 31.659400039206947, 31.659400039206947, 31.659400039206947, 31.659400039206947, 31.659400039206947]\n"
     ]
    }
   ],
   "source": [
    "import random\n",
    "from math import pi\n",
    "class Circle:\n",
    "    def __init__(self):\n",
    "        self.radius=random.uniform(1.1,5.1)\n",
    "    def calc_circumference(self):\n",
    "        return 2*pi*self.radius\n",
    "    def calc_area(self):\n",
    "        return pi*self.radius**2\n",
    "circle1=Circle()\n",
    "circle2=Circle()\n",
    "circle1.name='C1'\n",
    "circle2.name='C2'\n",
    "circle1.color=\"Blue\"\n",
    "print(circle1.name,circle1.radius,circle2.name,circle2.radius)\n",
    "\n",
    "circle=Circle()    \n",
    "circumference=[]\n",
    "for i in range(10):\n",
    "    circumference.append(circle.calc_circumference())\n",
    "print(circumference)"
   ]
  },
  {
   "cell_type": "code",
   "execution_count": 11,
   "metadata": {},
   "outputs": [
    {
     "name": "stdout",
     "output_type": "stream",
     "text": [
      "Enter EMP ID01\n",
      "Enter salary100\n",
      "180.0\n",
      "Aakash\n",
      "Enter EMP ID02\n",
      "Enter salary10\n",
      "B\n",
      "18.0\n"
     ]
    }
   ],
   "source": [
    "#Q create 5 employees & initialise their name\n",
    "#Write below functions\n",
    "#1. Get emp_id,salary for user\n",
    "#2 Apply salary hike to only first 2 employees\n",
    "        #sal_hike=0.8\n",
    "class Employee:\n",
    "    def __init__(self,name):\n",
    "        self.name=name\n",
    "        emp_id=int(input(\"Enter EMP ID\"))\n",
    "    def sal_hike(self,sal):\n",
    "        self.sal=sal+sal*(0.8)\n",
    "if __name__=='__main__':\n",
    "    emp1=Employee('Aakash')\n",
    "    emp1.sal_hike(int(input(\"Enter salary\")))\n",
    "    print(emp1.sal)\n",
    "    print(emp1.name)\n",
    "    emp2=Employee('B')\n",
    "    emp2.sal_hike(int(input(\"Enter salary\")))\n",
    "    print(emp2.name)\n",
    "    print(emp2.sal)\n",
    "    #emp3=Employee('C')\n",
    "    #emp4=Employee('D')\n",
    "    #emp5=Employee('E')\n",
    "    \n",
    "    "
   ]
  },
  {
   "cell_type": "code",
   "execution_count": 18,
   "metadata": {},
   "outputs": [
    {
     "name": "stdout",
     "output_type": "stream",
     "text": [
      "Enter emp id01\n",
      "Enter salary10\n",
      "Enter emp id02\n",
      "Enter salary100\n",
      "Enter emp id03\n",
      "Enter salary1000\n",
      "Enter emp id04\n",
      "Enter salary10000\n",
      "Enter emp id05\n",
      "Enter salary100000\n",
      "Aakash\n",
      "10.8\n",
      "Bakash\n",
      "108.0\n"
     ]
    }
   ],
   "source": [
    "class Emp:\n",
    "    salary_hike=1.08\n",
    "    def __init__(self,n):\n",
    "        self.name=n\n",
    "        self.emp_id=int(input(\"Enter emp id\"))\n",
    "        self.salary=int(input(\"Enter salary\"))\n",
    "    def apply_hike(self):\n",
    "        self.salary=self.salary * Emp.salary_hike\n",
    "\n",
    "emp1=Emp(\"Aakash\")\n",
    "emp2=Emp(\"Bakash\")\n",
    "emp3=Emp(\"Cakash\")\n",
    "emp4=Emp(\"Dakash\")\n",
    "emp5=Emp(\"Eakash\")\n",
    "emp1.apply_hike()\n",
    "print(emp1.name)\n",
    "print(emp1.salary)\n",
    "emp2.apply_hike()\n",
    "print(emp2.name)\n",
    "print(emp2.salary)"
   ]
  },
  {
   "cell_type": "code",
   "execution_count": 21,
   "metadata": {},
   "outputs": [
    {
     "name": "stdout",
     "output_type": "stream",
     "text": [
      "Enter emp id01\n",
      "Enter salary10\n",
      "Enter emp id02\n",
      "Enter salary100\n",
      "10\n",
      "10.8\n"
     ]
    }
   ],
   "source": [
    "import random\n",
    "name=['A','B','C','D','E','F']\n",
    "employees=[]\n",
    "for i in range(2):\n",
    "    name=random.choice(name)\n",
    "    emp=Emp(name)\n",
    "    employees.append(emp)\n",
    "print(employees[0].salary)\n",
    "employees[0].apply_hike()\n",
    "print(employees[0].salary)"
   ]
  },
  {
   "cell_type": "code",
   "execution_count": 67,
   "metadata": {},
   "outputs": [
    {
     "name": "stdout",
     "output_type": "stream",
     "text": [
      "Close price for 2018 is --> 1198.914571428571\n",
      "Close price for 2017 is --> 962.5802419354837\n",
      "Close price for 2016 is --> 1100.6702429149798\n",
      "Close price for 2015 is --> 1547.978225806452\n",
      "Close price for 2014 is --> 3394.310245901643\n",
      "Close price for 2013 is --> 2863.144200000001\n",
      "Close price for 2012 is --> 2507.2511952191253\n",
      "Close price for 2011 is --> 2629.9944000000005\n"
     ]
    }
   ],
   "source": [
    "try:\n",
    "    with open('/home/student/NSE-INFY.csv','r') as infy:\n",
    "        close=[]      \n",
    "        d={}\n",
    "        for line in infy:\n",
    "            closing_price = line.split(',')[5]\n",
    "            if closing_price == 'Close':\n",
    "                continue\n",
    "            close.append(float(closing_price))\n",
    "            date = line.split(',')[0]\n",
    "            year=date.split('-')[0]\n",
    "            if year in d:\n",
    "                d[year].append(float(closing_price))\n",
    "            else:\n",
    "                d[year]=[float(closing_price)]\n",
    "        for key in d.keys():\n",
    "            print('Close price for',key,'is --> {}'.\\\n",
    "                  format(sum(d[key])/len(d[key])))\n",
    "            \n",
    "        #print(sum(close)/len(close))\n",
    "except IOError as err:\n",
    "    print('File not found -->',err)\n",
    "        "
   ]
  },
  {
   "cell_type": "code",
   "execution_count": 73,
   "metadata": {},
   "outputs": [
    {
     "data": {
      "text/plain": [
       "['k1', 'k2']"
      ]
     },
     "execution_count": 73,
     "metadata": {},
     "output_type": "execute_result"
    }
   ],
   "source": [
    "#Q Print details of tata\n",
    "list({'k1':'v1','k2':'v2'})"
   ]
  },
  {
   "cell_type": "code",
   "execution_count": 74,
   "metadata": {},
   "outputs": [
    {
     "data": {
      "text/plain": [
       "dict_values(['v1', 'v2'])"
      ]
     },
     "execution_count": 74,
     "metadata": {},
     "output_type": "execute_result"
    }
   ],
   "source": [
    "d={'k1':'v1','k2':'v2'}\n",
    "d.values()"
   ]
  },
  {
   "cell_type": "code",
   "execution_count": 75,
   "metadata": {},
   "outputs": [
    {
     "data": {
      "text/plain": [
       "['v1', 'v2']"
      ]
     },
     "execution_count": 75,
     "metadata": {},
     "output_type": "execute_result"
    }
   ],
   "source": [
    "list(d.values())"
   ]
  },
  {
   "cell_type": "code",
   "execution_count": 76,
   "metadata": {},
   "outputs": [
    {
     "data": {
      "text/plain": [
       "['k1', 'k2']"
      ]
     },
     "execution_count": 76,
     "metadata": {},
     "output_type": "execute_result"
    }
   ],
   "source": [
    "list(d)"
   ]
  },
  {
   "cell_type": "code",
   "execution_count": null,
   "metadata": {},
   "outputs": [],
   "source": []
  }
 ],
 "metadata": {
  "kernelspec": {
   "display_name": "Python 3",
   "language": "python",
   "name": "python3"
  },
  "language_info": {
   "codemirror_mode": {
    "name": "ipython",
    "version": 3
   },
   "file_extension": ".py",
   "mimetype": "text/x-python",
   "name": "python",
   "nbconvert_exporter": "python",
   "pygments_lexer": "ipython3",
   "version": "3.6.5"
  }
 },
 "nbformat": 4,
 "nbformat_minor": 2
}
