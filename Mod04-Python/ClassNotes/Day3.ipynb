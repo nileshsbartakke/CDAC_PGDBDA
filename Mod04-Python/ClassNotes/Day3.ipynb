{
 "cells": [
  {
   "cell_type": "code",
   "execution_count": 30,
   "metadata": {},
   "outputs": [],
   "source": [
    "keys=['k1','k2','k3','k4','k5','k6','k7','k8','k9','k10']\n",
    "values=[1,2,3,4,5,6,7,8,9,10]\n",
    "dic={'keys':'values'}"
   ]
  },
  {
   "cell_type": "code",
   "execution_count": 7,
   "metadata": {},
   "outputs": [
    {
     "data": {
      "text/plain": [
       "['k1', 'k2', 'k3', 'k4', 'k5', 'k6', 'k7', 'k8', 'k9', 'k10']"
      ]
     },
     "execution_count": 7,
     "metadata": {},
     "output_type": "execute_result"
    }
   ],
   "source": [
    "keys"
   ]
  },
  {
   "cell_type": "code",
   "execution_count": 8,
   "metadata": {},
   "outputs": [
    {
     "data": {
      "text/plain": [
       "[1, 2, 3, 4, 5, 6, 7, 8, 9, 10]"
      ]
     },
     "execution_count": 8,
     "metadata": {},
     "output_type": "execute_result"
    }
   ],
   "source": [
    "values"
   ]
  },
  {
   "cell_type": "code",
   "execution_count": 11,
   "metadata": {},
   "outputs": [],
   "source": [
    "dic={'keys':values}"
   ]
  },
  {
   "cell_type": "code",
   "execution_count": 33,
   "metadata": {},
   "outputs": [
    {
     "data": {
      "text/plain": [
       "{'k1': 1,\n",
       " 'k2': 2,\n",
       " 'k3': 3,\n",
       " 'k4': 4,\n",
       " 'k5': 5,\n",
       " 'k6': 6,\n",
       " 'k7': 7,\n",
       " 'k8': 8,\n",
       " 'k9': 9,\n",
       " 'k10': 10}"
      ]
     },
     "execution_count": 33,
     "metadata": {},
     "output_type": "execute_result"
    }
   ],
   "source": [
    "d={}\n",
    "for i in range(len(keys)):\n",
    "    d[keys[i]]=values[i]\n",
    "d"
   ]
  },
  {
   "cell_type": "code",
   "execution_count": 34,
   "metadata": {},
   "outputs": [
    {
     "name": "stdout",
     "output_type": "stream",
     "text": [
      "Help on class zip in module builtins:\n",
      "\n",
      "class zip(object)\n",
      " |  zip(iter1 [,iter2 [...]]) --> zip object\n",
      " |  \n",
      " |  Return a zip object whose .__next__() method returns a tuple where\n",
      " |  the i-th element comes from the i-th iterable argument.  The .__next__()\n",
      " |  method continues until the shortest iterable in the argument sequence\n",
      " |  is exhausted and then it raises StopIteration.\n",
      " |  \n",
      " |  Methods defined here:\n",
      " |  \n",
      " |  __getattribute__(self, name, /)\n",
      " |      Return getattr(self, name).\n",
      " |  \n",
      " |  __iter__(self, /)\n",
      " |      Implement iter(self).\n",
      " |  \n",
      " |  __new__(*args, **kwargs) from builtins.type\n",
      " |      Create and return a new object.  See help(type) for accurate signature.\n",
      " |  \n",
      " |  __next__(self, /)\n",
      " |      Implement next(self).\n",
      " |  \n",
      " |  __reduce__(...)\n",
      " |      Return state information for pickling.\n",
      "\n"
     ]
    }
   ],
   "source": [
    "help(zip)"
   ]
  },
  {
   "cell_type": "markdown",
   "metadata": {},
   "source": [
    "zip() : We can zip two similar len tuples.<br>\n",
    "<b>def zip(*iterables):\n",
    "    # zip('ABCD', 'xy') --> Ax By\n",
    "    sentinel = object()\n",
    "    iterators = [iter(it) for it in iterables]\n",
    "    while iterators:\n",
    "        result = []\n",
    "        for it in iterators:\n",
    "            elem = next(it, sentinel)\n",
    "            if elem is sentinel:\n",
    "                return\n",
    "            result.append(elem)\n",
    "        yield tuple(result)</b>"
   ]
  },
  {
   "cell_type": "code",
   "execution_count": 38,
   "metadata": {},
   "outputs": [
    {
     "data": {
      "text/plain": [
       "{'k1': 1,\n",
       " 'k2': 2,\n",
       " 'k3': 3,\n",
       " 'k4': 4,\n",
       " 'k5': 5,\n",
       " 'k6': 6,\n",
       " 'k7': 7,\n",
       " 'k8': 8,\n",
       " 'k9': 9,\n",
       " 'k10': 10}"
      ]
     },
     "execution_count": 38,
     "metadata": {},
     "output_type": "execute_result"
    }
   ],
   "source": [
    "d=dict(zip(keys,values))\n",
    "d"
   ]
  },
  {
   "cell_type": "code",
   "execution_count": 42,
   "metadata": {},
   "outputs": [
    {
     "data": {
      "text/plain": [
       "<zip at 0x7fafb868c6c8>"
      ]
     },
     "execution_count": 42,
     "metadata": {},
     "output_type": "execute_result"
    }
   ],
   "source": [
    "zip('ABCDEF','yz')"
   ]
  },
  {
   "cell_type": "code",
   "execution_count": 43,
   "metadata": {},
   "outputs": [],
   "source": [
    "#Assignment: read a file.txt and count each word in the file display all the words along with the no of occurences of it."
   ]
  },
  {
   "cell_type": "code",
   "execution_count": 89,
   "metadata": {},
   "outputs": [
    {
     "name": "stdout",
     "output_type": "stream",
     "text": [
      "python 4\n",
      "is 3\n",
      "fun. 1\n",
      "Lets 1\n",
      "learn 1\n",
      "python 4\n",
      "pune 1\n",
      "is 3\n",
      "green 1\n",
      "& 2\n",
      "clean? 1\n",
      "python 4\n",
      "is 3\n",
      "python 4\n",
      "clean 1\n",
      "& 2\n",
      "real 1\n"
     ]
    }
   ],
   "source": [
    "with open('/home/student/AnacondaPY/file.txt','r') as h:\n",
    "    contents = h.read().split()\n",
    "    for ele in contents:\n",
    "        count=0\n",
    "        for v1 in contents:\n",
    "            if ele==v1:\n",
    "                count+=1\n",
    "        print(ele,count)"
   ]
  },
  {
   "cell_type": "code",
   "execution_count": 92,
   "metadata": {},
   "outputs": [
    {
     "name": "stdout",
     "output_type": "stream",
     "text": [
      "{'python': 4, 'is': 3, 'fun.': 1, 'Lets': 1, 'learn': 1, 'pune': 1, 'green': 1, '&': 2, 'clean?': 1, 'clean': 1, 'real': 1}\n"
     ]
    }
   ],
   "source": [
    "with open('/home/student/AnacondaPY/file.txt','r') as file:\n",
    "    contents = file.read()\n",
    "    lst=contents.split()\n",
    "    word_count={}\n",
    "    for word in lst:\n",
    "        if word not in word_count:\n",
    "            word_count[word]=1\n",
    "        else:\n",
    "            word_count[word] +=1\n",
    "    print(word_count)"
   ]
  },
  {
   "cell_type": "markdown",
   "metadata": {},
   "source": [
    "### dict.get()"
   ]
  },
  {
   "cell_type": "code",
   "execution_count": 95,
   "metadata": {},
   "outputs": [
    {
     "name": "stdout",
     "output_type": "stream",
     "text": [
      "Help on method_descriptor:\n",
      "\n",
      "get(...)\n",
      "    D.get(k[,d]) -> D[k] if k in D, else d.  d defaults to None.\n",
      "\n"
     ]
    }
   ],
   "source": [
    "help(dict.get)"
   ]
  },
  {
   "cell_type": "code",
   "execution_count": 104,
   "metadata": {},
   "outputs": [
    {
     "name": "stdout",
     "output_type": "stream",
     "text": [
      "Value : 7\n",
      "Value : Never\n"
     ]
    }
   ],
   "source": [
    "'''\n",
    "The method get() returns a value for the given key. If key is not available then returns default value None.\n",
    "dict.get(key, default = None)\n",
    "'''\n",
    "dict = {'Name': 'Zabra', 'Age': 7}\n",
    "print (\"Value : %s\" %  dict.get('Age'))\n",
    "print (\"Value : %s\" %  dict.get('Education', \"Never\"))"
   ]
  },
  {
   "cell_type": "code",
   "execution_count": 2,
   "metadata": {},
   "outputs": [
    {
     "name": "stdout",
     "output_type": "stream",
     "text": [
      "{'python': 4, 'is': 3, 'fun.': 1, 'Lets': 1, 'learn': 1, 'pune': 1, 'green': 1, '&': 2, 'clean?': 1, 'clean': 1, 'real': 1}\n"
     ]
    }
   ],
   "source": [
    "with open('/home/student/AnacondaPY/file.txt','r') as file:\n",
    "    word_coutn={}\n",
    "    for word in file.read().split():\n",
    "        word_coutn[word]=word_coutn.get(word,0) + 1\n",
    "    print(word_coutn)"
   ]
  },
  {
   "cell_type": "markdown",
   "metadata": {},
   "source": [
    "## Comprehension"
   ]
  },
  {
   "cell_type": "markdown",
   "metadata": {},
   "source": [
    "### 1. LIST Comprehension"
   ]
  },
  {
   "cell_type": "markdown",
   "metadata": {},
   "source": [
    "List comprehensions provide a concise way to create lists. Common applications are to make new lists where each element is the result of some operations applied to each member of another sequence or iterable, or to create a subsequence of those elements that satisfy a certain condition <br>\n",
    "[i for i in lst if i%==0]"
   ]
  },
  {
   "cell_type": "code",
   "execution_count": 13,
   "metadata": {},
   "outputs": [
    {
     "data": {
      "text/plain": [
       "[0, 5, 10, 15, 20, 25, 30, 35, 40, 45, 50, 55, 60, 65, 70, 75, 80, 85, 90, 95]"
      ]
     },
     "execution_count": 13,
     "metadata": {},
     "output_type": "execute_result"
    }
   ],
   "source": [
    "squares=[ x for x in range(100) if x%5==0]\n",
    "squares"
   ]
  },
  {
   "cell_type": "code",
   "execution_count": 14,
   "metadata": {},
   "outputs": [
    {
     "data": {
      "text/plain": [
       "[0,\n",
       " 1,\n",
       " 8,\n",
       " 27,\n",
       " 64,\n",
       " 125,\n",
       " 216,\n",
       " 343,\n",
       " 512,\n",
       " 729,\n",
       " 1000,\n",
       " 1331,\n",
       " 1728,\n",
       " 2197,\n",
       " 2744,\n",
       " 3375,\n",
       " 4096,\n",
       " 4913,\n",
       " 5832,\n",
       " 6859,\n",
       " 8000,\n",
       " 9261,\n",
       " 10648,\n",
       " 12167,\n",
       " 13824,\n",
       " 15625,\n",
       " 17576,\n",
       " 19683,\n",
       " 21952,\n",
       " 24389,\n",
       " 27000,\n",
       " 29791,\n",
       " 32768,\n",
       " 35937,\n",
       " 39304,\n",
       " 42875,\n",
       " 46656,\n",
       " 50653,\n",
       " 54872,\n",
       " 59319,\n",
       " 64000,\n",
       " 68921,\n",
       " 74088,\n",
       " 79507,\n",
       " 85184,\n",
       " 91125,\n",
       " 97336,\n",
       " 103823,\n",
       " 110592,\n",
       " 117649,\n",
       " 125000,\n",
       " 132651,\n",
       " 140608,\n",
       " 148877,\n",
       " 157464,\n",
       " 166375,\n",
       " 175616,\n",
       " 185193,\n",
       " 195112,\n",
       " 205379,\n",
       " 216000,\n",
       " 226981,\n",
       " 238328,\n",
       " 250047,\n",
       " 262144,\n",
       " 274625,\n",
       " 287496,\n",
       " 300763,\n",
       " 314432,\n",
       " 328509,\n",
       " 343000,\n",
       " 357911,\n",
       " 373248,\n",
       " 389017,\n",
       " 405224,\n",
       " 421875,\n",
       " 438976,\n",
       " 456533,\n",
       " 474552,\n",
       " 493039,\n",
       " 512000,\n",
       " 531441,\n",
       " 551368,\n",
       " 571787,\n",
       " 592704,\n",
       " 614125,\n",
       " 636056,\n",
       " 658503,\n",
       " 681472,\n",
       " 704969,\n",
       " 729000,\n",
       " 753571,\n",
       " 778688,\n",
       " 804357,\n",
       " 830584,\n",
       " 857375,\n",
       " 884736,\n",
       " 912673,\n",
       " 941192,\n",
       " 970299]"
      ]
     },
     "execution_count": 14,
     "metadata": {},
     "output_type": "execute_result"
    }
   ],
   "source": [
    "cubes=[x**3 for x in range(100)]\n",
    "cubes"
   ]
  },
  {
   "cell_type": "code",
   "execution_count": 15,
   "metadata": {},
   "outputs": [
    {
     "data": {
      "text/plain": [
       "[1, 8, 27, 64, 125, 216, 343, 512, 729]"
      ]
     },
     "execution_count": 15,
     "metadata": {},
     "output_type": "execute_result"
    }
   ],
   "source": [
    "input_list=[1,2,3,4,5,6,7,8,9]\n",
    "output_list=[x**3 for x in input_list]\n",
    "output_list"
   ]
  },
  {
   "cell_type": "code",
   "execution_count": 38,
   "metadata": {},
   "outputs": [],
   "source": [
    "list_var1=[1,2,3,4,5,11,12,13,14,15]\n",
    "list_var2=[1,2,3,4,5,6,7,8,9,10]\n",
    "out_list=[ x for x in list_var1 for y in list_var2 if x==y ]"
   ]
  },
  {
   "cell_type": "code",
   "execution_count": 39,
   "metadata": {},
   "outputs": [
    {
     "data": {
      "text/plain": [
       "[1, 2, 3, 4, 5]"
      ]
     },
     "execution_count": 39,
     "metadata": {},
     "output_type": "execute_result"
    }
   ],
   "source": [
    "out_list"
   ]
  },
  {
   "cell_type": "markdown",
   "metadata": {},
   "source": [
    "### Dict Comprehension"
   ]
  },
  {
   "cell_type": "code",
   "execution_count": 40,
   "metadata": {},
   "outputs": [
    {
     "data": {
      "text/plain": [
       "{0: 'Aakash', 1: 'John', 2: 'Ajay', 3: 'Amit'}"
      ]
     },
     "execution_count": 40,
     "metadata": {},
     "output_type": "execute_result"
    }
   ],
   "source": [
    "lst=['Aakash','John','Ajay','Amit']\n",
    "{i:val for i,val in enumerate(lst)}"
   ]
  },
  {
   "cell_type": "code",
   "execution_count": 66,
   "metadata": {},
   "outputs": [],
   "source": [
    "lst=['Aakash','John','Ajay','Amit']\n",
    "lst1=[101,102,106,109]\n",
    "ou_lst={ lst1[i]:lst[i] for i in range(len(lst)) }"
   ]
  },
  {
   "cell_type": "code",
   "execution_count": 67,
   "metadata": {},
   "outputs": [
    {
     "data": {
      "text/plain": [
       "{101: 'Aakash', 102: 'John', 106: 'Ajay', 109: 'Amit'}"
      ]
     },
     "execution_count": 67,
     "metadata": {},
     "output_type": "execute_result"
    }
   ],
   "source": [
    "ou_lst"
   ]
  },
  {
   "cell_type": "code",
   "execution_count": 72,
   "metadata": {},
   "outputs": [
    {
     "data": {
      "text/plain": [
       "{0: 'Aakash', 1: 'John', 2: 'Ajay', 3: 'Amit'}"
      ]
     },
     "execution_count": 72,
     "metadata": {},
     "output_type": "execute_result"
    }
   ],
   "source": [
    "dst={i:lst[i] for i in range(len(lst))}\n",
    "dst"
   ]
  },
  {
   "cell_type": "markdown",
   "metadata": {},
   "source": [
    "# Functions"
   ]
  },
  {
   "cell_type": "markdown",
   "metadata": {},
   "source": [
    "1. Readable\n",
    "2. Simplified\n",
    "3. Recursive\n",
    "4. Repitative Task\n",
    "5. Efficiency\n",
    "6. Code DRY(don't repeat yourself)"
   ]
  },
  {
   "cell_type": "markdown",
   "metadata": {},
   "source": [
    "~~~~\n",
    "def functin_name():\n",
    "    something....\n",
    "    something....\n",
    "    return \n",
    "~~~~"
   ]
  },
  {
   "cell_type": "code",
   "execution_count": 1,
   "metadata": {},
   "outputs": [
    {
     "name": "stdout",
     "output_type": "stream",
     "text": [
      "Enter a number10\n",
      "2\n",
      "3\n",
      "5\n",
      "7\n"
     ]
    }
   ],
   "source": [
    "def func1():\n",
    "    num=int(input('Enter a number'))\n",
    "    \n",
    "    for i in range(2,num+1):\n",
    "        found=0\n",
    "        for j in range(2,i):\n",
    "            if i%j ==0:\n",
    "                found=1\n",
    "        if found == 0:\n",
    "            print(i)\n",
    "func1()"
   ]
  },
  {
   "cell_type": "code",
   "execution_count": 1,
   "metadata": {},
   "outputs": [
    {
     "name": "stdout",
     "output_type": "stream",
     "text": [
      "Enter a number10\n",
      "2\n",
      "3\n",
      "5\n",
      "7\n",
      "Enter yes/no: no\n"
     ]
    }
   ],
   "source": [
    "def func1(num):\n",
    "    '''\n",
    "    Code for finding prime numbers upto desired range.\n",
    "    '''\n",
    "    for i in range(2,num+1):\n",
    "        found=0\n",
    "        for j in range(2,i):\n",
    "            if i%j ==0:\n",
    "                found=1\n",
    "        if found == 0:\n",
    "            print(i)\n",
    "option='yes'\n",
    "while option == 'yes':\n",
    "    num=int(input('Enter a number'))\n",
    "    func1(num)\n",
    "    option=input(\"Enter yes/no: \")"
   ]
  },
  {
   "cell_type": "code",
   "execution_count": 7,
   "metadata": {},
   "outputs": [
    {
     "data": {
      "text/plain": [
       "[[0, 1, 2, 3, 4],\n",
       " [0, 1, 2, 3, 4, 5, 6],\n",
       " [0, 1, 2, 3, 4, 5, 6, 7],\n",
       " [0, 1, 2, 3, 4, 5, 6, 7, 8]]"
      ]
     },
     "execution_count": 7,
     "metadata": {},
     "output_type": "execute_result"
    }
   ],
   "source": [
    "def another_function(num):\n",
    "    '''\n",
    "    function for List of list\n",
    "    '''\n",
    "    return list(range(num))\n",
    "final_list=[]\n",
    "final_list.append(another_function(5))\n",
    "final_list.append(another_function(7))\n",
    "final_list.append(another_function(8))\n",
    "final_list.append(another_function(9))\n",
    "final_list\n"
   ]
  },
  {
   "cell_type": "code",
   "execution_count": 5,
   "metadata": {},
   "outputs": [
    {
     "name": "stdout",
     "output_type": "stream",
     "text": [
      "[[2, 3, 5], [2, 3, 5, 7], [2, 3, 5, 7], [2, 3, 5, 7]]\n"
     ]
    }
   ],
   "source": [
    "def func1(num):\n",
    "    '''\n",
    "    Code for finding prime numbers upto desired range.\n",
    "    '''\n",
    "    lt=[]\n",
    "    for i in range(2,num+1):\n",
    "        found=0\n",
    "        for j in range(2,i):\n",
    "            if i%j ==0:\n",
    "                found=1\n",
    "        if found == 0:\n",
    "            lt.append(i)\n",
    "    return lt\n",
    "final_list=[]\n",
    "final_list.append(func1(5))\n",
    "final_list.append(func1(7))\n",
    "final_list.append(func1(8))\n",
    "final_list.append(func1(9))\n",
    "print(final_list)"
   ]
  },
  {
   "cell_type": "code",
   "execution_count": 7,
   "metadata": {},
   "outputs": [
    {
     "name": "stdout",
     "output_type": "stream",
     "text": [
      "Enter a number5\n",
      "[[2, 3, 5]]\n",
      "Enter yes/no: yes\n",
      "Enter a number8\n",
      "[[2, 3, 5, 7]]\n",
      "Enter yes/no: 9\n"
     ]
    }
   ],
   "source": [
    "def func1(num):\n",
    "    '''\n",
    "    Code for finding prime numbers upto desired range.\n",
    "    '''\n",
    "    lt=[]\n",
    "    final_list=[]\n",
    "    final_list.append(lt)\n",
    "    for i in range(2,num+1):\n",
    "        found=0\n",
    "        for j in range(2,i):\n",
    "            if i%j ==0:\n",
    "                found=1\n",
    "        if found == 0:\n",
    "            lt.append(i)\n",
    "    return lt\n",
    "option='yes'\n",
    "while option == 'yes':\n",
    "    num=int(input('Enter a number'))\n",
    "    func1(num)\n",
    "    print(final_list)\n",
    "    option=input(\"Enter yes/no: \")"
   ]
  },
  {
   "cell_type": "markdown",
   "metadata": {},
   "source": [
    "# SCOPE RULES: LEGB\n",
    "\n",
    "1. **L**-Local\n",
    "2. **E**-Enclosing\n",
    "3. **G**-Global\n",
    "4. **B**-Builtin\n",
    "\n",
    "where L->E->G->B acc to priority.<br>\n",
    "i.e. **Local** has highest priority than Enclosing Than Global than Builtin.<br>"
   ]
  },
  {
   "cell_type": "code",
   "execution_count": 2,
   "metadata": {},
   "outputs": [
    {
     "name": "stdout",
     "output_type": "stream",
     "text": [
      "29\n"
     ]
    }
   ],
   "source": [
    "a=20\n",
    "def add_numbers():\n",
    "    print(a+9)\n",
    "add_numbers()"
   ]
  },
  {
   "cell_type": "code",
   "execution_count": 3,
   "metadata": {},
   "outputs": [
    {
     "name": "stdout",
     "output_type": "stream",
     "text": [
      "19\n"
     ]
    }
   ],
   "source": [
    "a=20\n",
    "def add_numbers():\n",
    "    a=10\n",
    "    print(a+9)\n",
    "add_numbers()"
   ]
  },
  {
   "cell_type": "markdown",
   "metadata": {},
   "source": [
    "HENCE from above two examples it is clear that **local scope has highest priority.**"
   ]
  },
  {
   "cell_type": "code",
   "execution_count": 4,
   "metadata": {},
   "outputs": [
    {
     "name": "stdout",
     "output_type": "stream",
     "text": [
      "20\n",
      "19\n",
      "10\n"
     ]
    }
   ],
   "source": [
    "a=20\n",
    "def add_numbers():\n",
    "    global a\n",
    "    a=10\n",
    "    print(a+9)\n",
    "print(a)\n",
    "add_numbers()\n",
    "print(a)"
   ]
  },
  {
   "cell_type": "markdown",
   "metadata": {},
   "source": [
    "If we define a var with a **keyword global it has higher priority than just a=20** written global.\n",
    "because a=20 got overwritten by a=10."
   ]
  },
  {
   "cell_type": "code",
   "execution_count": 5,
   "metadata": {},
   "outputs": [
    {
     "name": "stdout",
     "output_type": "stream",
     "text": [
      "Pune ->name = Aakash and age = 18\n",
      "Pune ->name = Aakash and age = 27\n",
      "Pune ->name = Ajay and age = 18\n",
      "Pune ->name = Jatin and age = 25\n"
     ]
    }
   ],
   "source": [
    "def employee(city,name='Aakash',age=18):\n",
    "    print(city,'->name =', name,'and age =', age)\n",
    "employee('Pune')\n",
    "employee('Pune',age=27)\n",
    "employee('Pune','Ajay')\n",
    "employee('Pune','Jatin',25)"
   ]
  },
  {
   "cell_type": "code",
   "execution_count": 8,
   "metadata": {},
   "outputs": [
    {
     "name": "stdout",
     "output_type": "stream",
     "text": [
      "('Ajit', '+91 8657993382', 26, 'IT Professional')\n",
      "(27,)\n",
      "()\n",
      "('Jatin', 25)\n"
     ]
    }
   ],
   "source": [
    "def employee2(city,*args):\n",
    "    print(args)\n",
    "    \n",
    "employee2('Pune','Ajit','+91 8657993382',26,'IT Professional')\n",
    "employee2('Pune',27)\n",
    "employee2('Pune')\n",
    "employee2('Pune','Jatin',25)"
   ]
  },
  {
   "cell_type": "markdown",
   "metadata": {},
   "source": [
    "Arguements become tuple inside a function callled as non-keyword arguements."
   ]
  },
  {
   "cell_type": "code",
   "execution_count": 18,
   "metadata": {},
   "outputs": [
    {
     "name": "stdout",
     "output_type": "stream",
     "text": [
      "('Ajit', '+91 8657993382')\n",
      "{'age': 26, 'professional': 'IT Professional'}\n",
      "(27,)\n",
      "{}\n",
      "()\n",
      "{}\n",
      "('Jatin', 25)\n",
      "{}\n"
     ]
    }
   ],
   "source": [
    "def employee2(city,*args,**kwargs):\n",
    "    print(args)\n",
    "    print(kwargs)\n",
    "    \n",
    "employee2('Pune','Ajit','+91 8657993382',age=26,professional='IT Professional')\n",
    "employee2('Pune',27)\n",
    "employee2('Pune')\n",
    "employee2('Pune','Jatin',25)"
   ]
  }
 ],
 "metadata": {
  "kernelspec": {
   "display_name": "Python 3",
   "language": "python",
   "name": "python3"
  },
  "language_info": {
   "codemirror_mode": {
    "name": "ipython",
    "version": 3
   },
   "file_extension": ".py",
   "mimetype": "text/x-python",
   "name": "python",
   "nbconvert_exporter": "python",
   "pygments_lexer": "ipython3",
   "version": "3.6.5"
  }
 },
 "nbformat": 4,
 "nbformat_minor": 2
}
