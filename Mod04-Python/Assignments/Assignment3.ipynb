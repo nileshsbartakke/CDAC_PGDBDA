{
 "cells": [
  {
   "cell_type": "markdown",
   "metadata": {},
   "source": [
    "#Q1 Given a dictionary of students and their favourite colours:\n",
    "people={'Arham:'Blue','Lisa':'Yellow','Vinod':'Purple','Jenny':'Pink'}\n",
    " 1. Find out how many students are in the list\n",
    " 2. Change lIsa's favourite color\n",
    " 3. Remove 'jenny' and her favourite color\n",
    " 4. Sort and print students and their favourite colors alphabetically by name"
   ]
  },
  {
   "cell_type": "code",
   "execution_count": 18,
   "metadata": {},
   "outputs": [
    {
     "name": "stdout",
     "output_type": "stream",
     "text": [
      "There are 4 students in people dict\n"
     ]
    }
   ],
   "source": [
    "people={'Arham':'Blue','Lisa':'Yellow','Vinod':'Purple','Jenny':'Pink'}\n",
    "#1\n",
    "print(\"There are\",len(people),\"students in people dict\")\n"
   ]
  },
  {
   "cell_type": "code",
   "execution_count": 19,
   "metadata": {},
   "outputs": [
    {
     "data": {
      "text/plain": [
       "{'Arham': 'Blue', 'Lisa': 'Green', 'Vinod': 'Purple', 'Jenny': 'Pink'}"
      ]
     },
     "execution_count": 19,
     "metadata": {},
     "output_type": "execute_result"
    }
   ],
   "source": [
    "#2\n",
    "people.update({'Lisa': 'Green'})\n",
    "people"
   ]
  },
  {
   "cell_type": "code",
   "execution_count": 20,
   "metadata": {},
   "outputs": [
    {
     "data": {
      "text/plain": [
       "{'Arham': 'Blue', 'Lisa': 'Green', 'Vinod': 'Purple'}"
      ]
     },
     "execution_count": 20,
     "metadata": {},
     "output_type": "execute_result"
    }
   ],
   "source": [
    "#3\n",
    "del people['Jenny']\n",
    "people"
   ]
  },
  {
   "cell_type": "code",
   "execution_count": 38,
   "metadata": {},
   "outputs": [],
   "source": [
    "import operator\n",
    "pep={'Jenny':'Pink','Arham':'Blue','Lisa':'Yellow','Vinod':'Purple',}\n",
    "sort_x = sorted(pep.items(), key=operator.itemgetter(1))"
   ]
  },
  {
   "cell_type": "code",
   "execution_count": 39,
   "metadata": {},
   "outputs": [
    {
     "data": {
      "text/plain": [
       "[('Arham', 'Blue'), ('Jenny', 'Pink'), ('Vinod', 'Purple'), ('Lisa', 'Yellow')]"
      ]
     },
     "execution_count": 39,
     "metadata": {},
     "output_type": "execute_result"
    }
   ],
   "source": [
    "sort_x"
   ]
  },
  {
   "cell_type": "code",
   "execution_count": 42,
   "metadata": {},
   "outputs": [],
   "source": [
    "import operator\n",
    "pep={'Jenny':'Zamba','Arham':'Blue','Lisa':'Yellow','Vinod':'Purple',}\n",
    "sorted_by_value = sorted(pep.items(), key=lambda kv: kv[1])"
   ]
  },
  {
   "cell_type": "code",
   "execution_count": 44,
   "metadata": {},
   "outputs": [
    {
     "data": {
      "text/plain": [
       "[('Arham', 'Blue'),\n",
       " ('Vinod', 'Purple'),\n",
       " ('Lisa', 'Yellow'),\n",
       " ('Jenny', 'Zamba')]"
      ]
     },
     "execution_count": 44,
     "metadata": {},
     "output_type": "execute_result"
    }
   ],
   "source": [
    "sorted_by_value"
   ]
  },
  {
   "cell_type": "markdown",
   "metadata": {},
   "source": [
    "#Q2 WAP to find factorial of number from 1 to 20"
   ]
  },
  {
   "cell_type": "code",
   "execution_count": 50,
   "metadata": {},
   "outputs": [
    {
     "name": "stdout",
     "output_type": "stream",
     "text": [
      "Enter any number20\n",
      "1! = 1\n",
      "2! = 2\n",
      "3! = 6\n",
      "4! = 24\n",
      "5! = 120\n",
      "6! = 720\n",
      "7! = 5040\n",
      "8! = 40320\n",
      "9! = 362880\n",
      "10! = 3628800\n",
      "11! = 39916800\n",
      "12! = 479001600\n",
      "13! = 6227020800\n",
      "14! = 87178291200\n",
      "15! = 1307674368000\n",
      "16! = 20922789888000\n",
      "17! = 355687428096000\n",
      "18! = 6402373705728000\n",
      "19! = 121645100408832000\n",
      "20! = 2432902008176640000\n"
     ]
    },
    {
     "data": {
      "text/plain": [
       "2432902008176640000"
      ]
     },
     "execution_count": 50,
     "metadata": {},
     "output_type": "execute_result"
    }
   ],
   "source": [
    "def factorial( n ):\n",
    "    if n <1:\n",
    "        return 1\n",
    "    else:\n",
    "        returnNumber = n * factorial( n - 1 )\n",
    "        print(str(n) + '! = ' + str(returnNumber))\n",
    "        return returnNumber\n",
    "n=int(input(\"Enter any number\"))\n",
    "factorial(n)"
   ]
  },
  {
   "cell_type": "code",
   "execution_count": 10,
   "metadata": {},
   "outputs": [
    {
     "name": "stdout",
     "output_type": "stream",
     "text": [
      "Enter a list123\n",
      "Enter second list321\n"
     ]
    },
    {
     "data": {
      "text/plain": [
       "True"
      ]
     },
     "execution_count": 10,
     "metadata": {},
     "output_type": "execute_result"
    }
   ],
   "source": [
    "#Q3 Define a function overlapping() that takes two lists and returns True if they have at least one \n",
    "# member in common, False otherwise.\n",
    "\n",
    "def overlapping(lst1,lst2):\n",
    "    for i in lst1:\n",
    "        for j in lst2:\n",
    "            if i==j:\n",
    "                return True\n",
    "    if i!=j:\n",
    "        print(False)\n",
    "lst1=list(input(\"Enter a list\"))\n",
    "lst2=list(input(\"Enter second list\"))\n",
    "overlapping(lst1,lst2)"
   ]
  },
  {
   "cell_type": "code",
   "execution_count": 7,
   "metadata": {},
   "outputs": [
    {
     "name": "stdout",
     "output_type": "stream",
     "text": [
      "Enter a listpythin is fun\n"
     ]
    },
    {
     "ename": "AttributeError",
     "evalue": "'list' object has no attribute 'split'",
     "output_type": "error",
     "traceback": [
      "\u001b[0;31m---------------------------------------------------------------------------\u001b[0m",
      "\u001b[0;31mAttributeError\u001b[0m                            Traceback (most recent call last)",
      "\u001b[0;32m<ipython-input-7-74f96c468d98>\u001b[0m in \u001b[0;36m<module>\u001b[0;34m()\u001b[0m\n\u001b[1;32m      6\u001b[0m                 \u001b[0;32mreturn\u001b[0m \u001b[0mi\u001b[0m\u001b[0;34m\u001b[0m\u001b[0m\n\u001b[1;32m      7\u001b[0m \u001b[0mlst1\u001b[0m\u001b[0;34m=\u001b[0m\u001b[0mlist\u001b[0m\u001b[0;34m(\u001b[0m\u001b[0minput\u001b[0m\u001b[0;34m(\u001b[0m\u001b[0;34m\"Enter a list\"\u001b[0m\u001b[0;34m)\u001b[0m\u001b[0;34m)\u001b[0m\u001b[0;34m\u001b[0m\u001b[0m\n\u001b[0;32m----> 8\u001b[0;31m \u001b[0ml1\u001b[0m\u001b[0;34m=\u001b[0m\u001b[0mlst1\u001b[0m\u001b[0;34m.\u001b[0m\u001b[0msplit\u001b[0m\u001b[0;34m(\u001b[0m\u001b[0;34m' '\u001b[0m\u001b[0;34m)\u001b[0m\u001b[0;34m\u001b[0m\u001b[0m\n\u001b[0m\u001b[1;32m      9\u001b[0m \u001b[0mfind_longest_word\u001b[0m\u001b[0;34m(\u001b[0m\u001b[0mlst1\u001b[0m\u001b[0;34m)\u001b[0m\u001b[0;34m\u001b[0m\u001b[0m\n",
      "\u001b[0;31mAttributeError\u001b[0m: 'list' object has no attribute 'split'"
     ]
    }
   ],
   "source": [
    "#Q.4. Write a function find_longest_word() that takes a list of words and returns the length of the longest one.\n",
    "def find_longest_word(l1):\n",
    "    for i in l1:\n",
    "        for j in l1:\n",
    "            if i > j:\n",
    "                return i\n",
    "lst1=list(input(\"Enter a list\"))\n",
    "l1=lst1.split(' ')\n",
    "find_longest_word(lst1)"
   ]
  },
  {
   "cell_type": "code",
   "execution_count": 10,
   "metadata": {},
   "outputs": [
    {
     "name": "stdout",
     "output_type": "stream",
     "text": [
      "Enter a listakshay is my name\n"
     ]
    },
    {
     "data": {
      "text/plain": [
       "6"
      ]
     },
     "execution_count": 10,
     "metadata": {},
     "output_type": "execute_result"
    }
   ],
   "source": [
    "def find_longest_word(l1):\n",
    "    return len(max(l1,key=len))\n",
    "lst1=list(input(\"Enter a list\"))\n",
    "find_longest_word(l1)"
   ]
  },
  {
   "cell_type": "code",
   "execution_count": 29,
   "metadata": {},
   "outputs": [
    {
     "name": "stdout",
     "output_type": "stream",
     "text": [
      "Enter a range3\n"
     ]
    },
    {
     "data": {
      "text/plain": [
       "['Hello', 'BHammmmmmmmmmmmmm']"
      ]
     },
     "execution_count": 29,
     "metadata": {},
     "output_type": "execute_result"
    }
   ],
   "source": [
    "#Q.5.Write a function filter_long_words() that takes a list of words and an integer n and returns the list of \n",
    "#words that are longer than n\n",
    "def filter_long_words(l1,n):\n",
    "    ne_lst=[]\n",
    "    for i in l1:\n",
    "        if n < len(i):\n",
    "            ne_lst.append(i)\n",
    "    return ne_lst\n",
    "#l1,n=list(input(\"Enter some words\")),\n",
    "l1=['Hi','Hello','BHammmmmmmmmmmmmm']\n",
    "n=int(input(\"Enter a range\"))\n",
    "filter_long_words(l1,n)"
   ]
  },
  {
   "cell_type": "code",
   "execution_count": 27,
   "metadata": {},
   "outputs": [
    {
     "name": "stdout",
     "output_type": "stream",
     "text": [
      "Enter a range3\n"
     ]
    },
    {
     "data": {
      "text/plain": [
       "['Hello', 'BHammmmmmmmmmmmmm']"
      ]
     },
     "execution_count": 27,
     "metadata": {},
     "output_type": "execute_result"
    }
   ],
   "source": [
    "def filter_long_words(l1,n):\n",
    "    return [word for word in l1 if len(word)> n ]\n",
    "l1=['Hi','Hello','BHammmmmmmmmmmmmm']\n",
    "n=int(input(\"Enter a range\"))\n",
    "filter_long_words(l1,n)"
   ]
  },
  {
   "cell_type": "code",
   "execution_count": null,
   "metadata": {},
   "outputs": [],
   "source": [
    "#Q6"
   ]
  },
  {
   "cell_type": "code",
   "execution_count": 34,
   "metadata": {},
   "outputs": [
    {
     "name": "stdout",
     "output_type": "stream",
     "text": [
      "Enter a stringakshay    is my name\n"
     ]
    },
    {
     "data": {
      "text/plain": [
       "'akshay is my name'"
      ]
     },
     "execution_count": 34,
     "metadata": {},
     "output_type": "execute_result"
    }
   ],
   "source": [
    "def correct(string):\n",
    "    return ' '.join(map(str.strip,string.split()))\n",
    "string=input(\"Enter a string\")\n",
    "correct(string)"
   ]
  },
  {
   "cell_type": "code",
   "execution_count": 40,
   "metadata": {},
   "outputs": [
    {
     "name": "stdout",
     "output_type": "stream",
     "text": [
      "Enter a stringakshay .terode\n"
     ]
    },
    {
     "data": {
      "text/plain": [
       "'akshay . terode'"
      ]
     },
     "execution_count": 40,
     "metadata": {},
     "output_type": "execute_result"
    }
   ],
   "source": [
    "def correct(string):\n",
    "    return ' '.join(string.split()).replace('.', '. ')\n",
    "string=input(\"Enter a string\")\n",
    "correct(string)"
   ]
  },
  {
   "cell_type": "code",
   "execution_count": null,
   "metadata": {},
   "outputs": [],
   "source": [
    "#Q7"
   ]
  },
  {
   "cell_type": "code",
   "execution_count": 41,
   "metadata": {},
   "outputs": [],
   "source": [
    "kas='akshay my name'.split()"
   ]
  },
  {
   "cell_type": "code",
   "execution_count": 42,
   "metadata": {},
   "outputs": [
    {
     "data": {
      "text/plain": [
       "['akshay', 'my', 'name']"
      ]
     },
     "execution_count": 42,
     "metadata": {},
     "output_type": "execute_result"
    }
   ],
   "source": [
    "kas"
   ]
  },
  {
   "cell_type": "code",
   "execution_count": 52,
   "metadata": {},
   "outputs": [
    {
     "data": {
      "text/plain": [
       "'e'"
      ]
     },
     "execution_count": 52,
     "metadata": {},
     "output_type": "execute_result"
    }
   ],
   "source": [
    "kas[-1][-1]"
   ]
  },
  {
   "cell_type": "code",
   "execution_count": 56,
   "metadata": {},
   "outputs": [
    {
     "data": {
      "text/plain": [
       "'e'"
      ]
     },
     "execution_count": 56,
     "metadata": {},
     "output_type": "execute_result"
    }
   ],
   "source": [
    "for i in kas[-1][-1]:\n",
    "    if i == 'e':\n",
    "        kas[-1][-1]+'eing'\n",
    "kas[-1][-1]\n"
   ]
  },
  {
   "cell_type": "code",
   "execution_count": 62,
   "metadata": {},
   "outputs": [
    {
     "name": "stdout",
     "output_type": "stream",
     "text": [
      "being\n",
      "lying\n",
      "seeing\n",
      "moving\n"
     ]
    },
    {
     "ename": "NameError",
     "evalue": "name 'is_vowel' is not defined",
     "output_type": "error",
     "traceback": [
      "\u001b[0;31m---------------------------------------------------------------------------\u001b[0m",
      "\u001b[0;31mNameError\u001b[0m                                 Traceback (most recent call last)",
      "\u001b[0;32m<ipython-input-62-f011818aea59>\u001b[0m in \u001b[0;36m<module>\u001b[0;34m()\u001b[0m\n\u001b[1;32m     15\u001b[0m \u001b[0mprint\u001b[0m \u001b[0;34m(\u001b[0m\u001b[0mmake_ing_form\u001b[0m\u001b[0;34m(\u001b[0m\u001b[0;34m'see'\u001b[0m\u001b[0;34m)\u001b[0m\u001b[0;34m)\u001b[0m\u001b[0;34m\u001b[0m\u001b[0m\n\u001b[1;32m     16\u001b[0m \u001b[0mprint\u001b[0m \u001b[0;34m(\u001b[0m\u001b[0mmake_ing_form\u001b[0m\u001b[0;34m(\u001b[0m\u001b[0;34m'move'\u001b[0m\u001b[0;34m)\u001b[0m\u001b[0;34m)\u001b[0m\u001b[0;34m\u001b[0m\u001b[0m\n\u001b[0;32m---> 17\u001b[0;31m \u001b[0mprint\u001b[0m \u001b[0;34m(\u001b[0m\u001b[0mmake_ing_form\u001b[0m\u001b[0;34m(\u001b[0m\u001b[0;34m'hug'\u001b[0m\u001b[0;34m)\u001b[0m\u001b[0;34m)\u001b[0m\u001b[0;34m\u001b[0m\u001b[0m\n\u001b[0m",
      "\u001b[0;32m<ipython-input-62-f011818aea59>\u001b[0m in \u001b[0;36mmake_ing_form\u001b[0;34m(verb)\u001b[0m\n\u001b[1;32m      6\u001b[0m     \u001b[0;32melif\u001b[0m \u001b[0mverb\u001b[0m\u001b[0;34m.\u001b[0m\u001b[0mendswith\u001b[0m\u001b[0;34m(\u001b[0m\u001b[0;34m'e'\u001b[0m\u001b[0;34m)\u001b[0m\u001b[0;34m:\u001b[0m\u001b[0;34m\u001b[0m\u001b[0m\n\u001b[1;32m      7\u001b[0m         \u001b[0;32mreturn\u001b[0m \u001b[0mverb\u001b[0m\u001b[0;34m[\u001b[0m\u001b[0;34m:\u001b[0m\u001b[0;34m-\u001b[0m\u001b[0;36m1\u001b[0m\u001b[0;34m]\u001b[0m \u001b[0;34m+\u001b[0m \u001b[0;34m'ing'\u001b[0m\u001b[0;34m\u001b[0m\u001b[0m\n\u001b[0;32m----> 8\u001b[0;31m     \u001b[0;32melif\u001b[0m \u001b[0;32mnot\u001b[0m \u001b[0mis_vowel\u001b[0m\u001b[0;34m(\u001b[0m\u001b[0mverb\u001b[0m\u001b[0;34m[\u001b[0m\u001b[0;34m-\u001b[0m\u001b[0;36m1\u001b[0m\u001b[0;34m]\u001b[0m\u001b[0;34m)\u001b[0m \u001b[0;32mand\u001b[0m \u001b[0mis_vowel\u001b[0m\u001b[0;34m(\u001b[0m\u001b[0mverb\u001b[0m\u001b[0;34m[\u001b[0m\u001b[0;34m-\u001b[0m\u001b[0;36m2\u001b[0m\u001b[0;34m]\u001b[0m\u001b[0;34m)\u001b[0m \u001b[0;32mand\u001b[0m \u001b[0;32mnot\u001b[0m \u001b[0mis_vowel\u001b[0m\u001b[0;34m(\u001b[0m\u001b[0mverb\u001b[0m\u001b[0;34m[\u001b[0m\u001b[0;34m-\u001b[0m\u001b[0;36m3\u001b[0m\u001b[0;34m]\u001b[0m\u001b[0;34m)\u001b[0m\u001b[0;34m:\u001b[0m\u001b[0;34m\u001b[0m\u001b[0m\n\u001b[0m\u001b[1;32m      9\u001b[0m         \u001b[0;32mreturn\u001b[0m \u001b[0mverb\u001b[0m \u001b[0;34m+\u001b[0m \u001b[0mverb\u001b[0m\u001b[0;34m[\u001b[0m\u001b[0;34m-\u001b[0m\u001b[0;36m1\u001b[0m\u001b[0;34m]\u001b[0m \u001b[0;34m+\u001b[0m \u001b[0;34m'ing'\u001b[0m\u001b[0;34m\u001b[0m\u001b[0m\n\u001b[1;32m     10\u001b[0m     \u001b[0;32melse\u001b[0m\u001b[0;34m:\u001b[0m\u001b[0;34m\u001b[0m\u001b[0m\n",
      "\u001b[0;31mNameError\u001b[0m: name 'is_vowel' is not defined"
     ]
    }
   ],
   "source": [
    "def make_ing_form(verb):\n",
    "    if verb.endswith('ie'):\n",
    "        return verb[:-2] + 'ying'\n",
    "    elif verb.endswith('e') and (verb[-2].endswith('e') or len(verb) == 2):\n",
    "        return verb + 'ing'\n",
    "    elif verb.endswith('e'):\n",
    "        return verb[:-1] + 'ing'\n",
    "    elif not is_vowel(verb[-1]) and is_vowel(verb[-2]) and not is_vowel(verb[-3]):\n",
    "        return verb + verb[-1] + 'ing'\n",
    "    else:\n",
    "        return verb + 'ing'\n",
    "\n",
    "print (make_ing_form('be'))\n",
    "print (make_ing_form('lie'))\n",
    "print (make_ing_form('see'))\n",
    "print (make_ing_form('move'))\n",
    "print (make_ing_form('hug'))"
   ]
  },
  {
   "cell_type": "code",
   "execution_count": 64,
   "metadata": {},
   "outputs": [
    {
     "name": "stdout",
     "output_type": "stream",
     "text": [
      "lying\n",
      "moving\n",
      "hugging\n",
      "None\n"
     ]
    }
   ],
   "source": [
    "vowels = 'aeiou'\n",
    "def make_ing_form(verb):\n",
    "    if verb.endswith('ie'):\n",
    "        return verb[:-2]+'ying'\n",
    "    elif verb.endswith('e'):\n",
    "        return verb[:-1]+'ing'\n",
    "    elif verb[-3] not in vowels:\n",
    "        if verb[-2] in vowels:\n",
    "            if verb[-1] not in vowels:\n",
    "                return verb+verb[-1]+'ing'\n",
    "        else:\n",
    "            return verb+'ing' \n",
    "\n",
    "#test\n",
    "print (make_ing_form('lie'))\n",
    "#print (make_ing_form('see')) # I know. Doesn't work. It's an exception\n",
    "print (make_ing_form('move'))\n",
    "print (make_ing_form('hug'))\n",
    "print (make_ing_form('touch'))"
   ]
  },
  {
   "cell_type": "code",
   "execution_count": 65,
   "metadata": {},
   "outputs": [
    {
     "name": "stdout",
     "output_type": "stream",
     "text": [
      "lieing\n",
      "seeing\n",
      "moving\n",
      "hugging\n",
      "studying\n"
     ]
    }
   ],
   "source": [
    "import string\n",
    "def make_ing_form(passed_string):\n",
    "    passed_string = passed_string.lower()\n",
    "    letter = list(string.ascii_lowercase)\n",
    "    vowel = ['a','e','i','o','u']\n",
    "    consonant = [c for c in letter if c not in vowel]\n",
    "    exception = ['be', 'see', 'flee', 'knee', 'lie']\n",
    "    if passed_string.endswith('e'):\n",
    "        if passed_string in exception:\n",
    "            return passed_string + 'ing'\n",
    "        else:\n",
    "            passed_string = passed_string[:-1]\n",
    "            return passed_string + 'ing'\n",
    "\n",
    "    elif passed_string.endswith('ie'):\n",
    "        passed_string = passed_string[:-2]\n",
    "        return passed_string + 'ying'\n",
    "\n",
    "    elif passed_string[-1] in consonant and passed_string[-2] in vowel and passed_string[-3] in consonant:\n",
    "        passed_string += passed_string[-1]\n",
    "        return passed_string + 'ing'\n",
    "    else:\n",
    "        return passed_string + 'ing'\n",
    "\n",
    "verb = ['lie', 'see', 'move', 'hug', 'study']\n",
    "for item in verb:\n",
    "    print(make_ing_form(item))"
   ]
  },
  {
   "cell_type": "code",
   "execution_count": null,
   "metadata": {},
   "outputs": [],
   "source": []
  }
 ],
 "metadata": {
  "kernelspec": {
   "display_name": "Python 3",
   "language": "python",
   "name": "python3"
  },
  "language_info": {
   "codemirror_mode": {
    "name": "ipython",
    "version": 3
   },
   "file_extension": ".py",
   "mimetype": "text/x-python",
   "name": "python",
   "nbconvert_exporter": "python",
   "pygments_lexer": "ipython3",
   "version": "3.6.5"
  }
 },
 "nbformat": 4,
 "nbformat_minor": 2
}
