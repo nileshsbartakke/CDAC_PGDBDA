{
 "cells": [
  {
   "cell_type": "code",
   "execution_count": 13,
   "metadata": {},
   "outputs": [
    {
     "name": "stdout",
     "output_type": "stream",
     "text": [
      "enter num to find factorial5\n"
     ]
    },
    {
     "data": {
      "text/plain": [
       "120"
      ]
     },
     "execution_count": 13,
     "metadata": {},
     "output_type": "execute_result"
    }
   ],
   "source": [
    "#Q1 FACTORIAL\n",
    "def factorial(x):\n",
    "    fact=1\n",
    "    for i in range(x,1,-1):\n",
    "        fact=fact*i\n",
    "    return fact\n",
    "x=int(input(\"enter num to find factorial\"))\n",
    "factorial(x)"
   ]
  },
  {
   "cell_type": "code",
   "execution_count": 7,
   "metadata": {},
   "outputs": [
    {
     "name": "stdout",
     "output_type": "stream",
     "text": [
      "Enter the range of numbers to check for odd nos9\n"
     ]
    },
    {
     "data": {
      "text/plain": [
       "[1, 3, 5, 7]"
      ]
     },
     "execution_count": 7,
     "metadata": {},
     "output_type": "execute_result"
    }
   ],
   "source": [
    "#Q2 List of odd numbers\n",
    "def print_odd(num):\n",
    "    lst=[ x for x in range(num) if x%2==1 ]\n",
    "    return lst\n",
    "num=int(input(\"Enter the range of numbers to check for odd nos\"))\n",
    "print_odd(num)"
   ]
  },
  {
   "cell_type": "code",
   "execution_count": 3,
   "metadata": {},
   "outputs": [
    {
     "name": "stdout",
     "output_type": "stream",
     "text": [
      "Enter a stringabc\n",
      "cba\n"
     ]
    }
   ],
   "source": [
    "#Q3 Reverse a string\n",
    "def rev_string(num):\n",
    "    print(num[::-1])\n",
    "\n",
    "num=input(\"Enter a string\")\n",
    "rev_string(num)"
   ]
  },
  {
   "cell_type": "code",
   "execution_count": 13,
   "metadata": {},
   "outputs": [
    {
     "name": "stdout",
     "output_type": "stream",
     "text": [
      "Enter a stringakshay is my name\n",
      "No of words: 4\n",
      "No of char are : 14\n"
     ]
    }
   ],
   "source": [
    "#Q4 Count words and char\n",
    "def count_word_char(n):\n",
    "    n1=len(n.split())\n",
    "    print(\"No of words:\",n1)\n",
    "    count=0\n",
    "    for i in n:\n",
    "        if i==' ':\n",
    "            count+=1\n",
    "    print(\"No of char are :\",len(n)-count)\n",
    "    \n",
    "n=input('Enter a string')\n",
    "count_word_char(n)"
   ]
  },
  {
   "cell_type": "code",
   "execution_count": 7,
   "metadata": {},
   "outputs": [
    {
     "name": "stdout",
     "output_type": "stream",
     "text": [
      "Enter a number8\n",
      "0\n",
      "1\n",
      "1\n",
      "2\n",
      "3\n",
      "5\n",
      "8\n",
      "13\n"
     ]
    }
   ],
   "source": [
    "#Q5 Fibonacci series \n",
    "def fib_series(n):\n",
    "    r=0\n",
    "    t1=0\n",
    "    t2=1\n",
    "    for i in range(n):\n",
    "        print(\"{}\".format(t1))\n",
    "        r=t1+t2\n",
    "        t1=t2\n",
    "        t2=r\n",
    "n=int(input(\"Enter a number\"))\n",
    "fib_series(n)"
   ]
  },
  {
   "cell_type": "code",
   "execution_count": 3,
   "metadata": {},
   "outputs": [
    {
     "name": "stdout",
     "output_type": "stream",
     "text": [
      "Enter 1: Create \n",
      " 2.Remove \n",
      " 3.Update \n",
      " 4.Display5\n",
      "Enter yes/no: no\n"
     ]
    }
   ],
   "source": [
    "#Q6 CRUD Op on stud db\n",
    "lst=[]\n",
    "def update_crud(num,value):\n",
    "    \n",
    "def create_crud(n):\n",
    "    lst=[x for x in range(n)]\n",
    "    return lst\n",
    "def remove_crud(val):\n",
    "    lst.remove(val)\n",
    "    return lst\n",
    "def display_crud(val):\n",
    "    return lst\n",
    "option='yes'\n",
    "while option=='yes':\n",
    "    a=int(input(\"Enter 1: Create \\n 2.Remove \\n 3.Update \\n 4.Display\"))\n",
    "    if a == 1:\n",
    "        n=int(input(\"Enter a range of list\"))\n",
    "        create_crud(n)\n",
    "    if a== 2:\n",
    "        val=int(input(\"Enter a value to remove\"))\n",
    "        remove_crud(val)\n",
    "    if a==3:\n",
    "        num=int(input(\"Enter an index \"))\n",
    "        val=int(input(\"Enter a value\"))\n",
    "        update_crud(num,val)\n",
    "    if a==4:\n",
    "        display_crud\n",
    "    option=input(\"Enter yes/no: \")"
   ]
  },
  {
   "cell_type": "code",
   "execution_count": 1,
   "metadata": {},
   "outputs": [
    {
     "name": "stdout",
     "output_type": "stream",
     "text": [
      "0. Exit\n",
      "1. add/create\n",
      "2. remove\n",
      "3. Display\n",
      "Enter choice: 1\n",
      "Enter number to append: 3\n",
      "List:  [3]\n",
      "0. Exit\n",
      "1. add/create\n",
      "2. remove\n",
      "3. Display\n",
      "Enter choice: 1\n",
      "Enter number to append: 5\n",
      "List:  [3, 5]\n",
      "0. Exit\n",
      "1. add/create\n",
      "2. remove\n",
      "3. Display\n",
      "Enter choice: 1\n",
      "Enter number to append: 6\n",
      "List:  [3, 5, 6]\n",
      "0. Exit\n",
      "1. add/create\n",
      "2. remove\n",
      "3. Display\n",
      "Enter choice: 1\n",
      "Enter number to append: 7\n",
      "List:  [3, 5, 6, 7]\n",
      "0. Exit\n",
      "1. add/create\n",
      "2. remove\n",
      "3. Display\n",
      "Enter choice: 1\n",
      "Enter number to append: 8\n",
      "List:  [3, 5, 6, 7, 8]\n",
      "0. Exit\n",
      "1. add/create\n",
      "2. remove\n",
      "3. Display\n",
      "Enter choice: 2\n",
      "Enter number to remove: 8\n",
      "List:  [3, 5, 6, 7]\n",
      "0. Exit\n",
      "1. add/create\n",
      "2. remove\n",
      "3. Display\n",
      "Enter choice: 3\n",
      "List:  [3, 5, 6, 7]\n",
      "0. Exit\n",
      "1. add/create\n",
      "2. remove\n",
      "3. Display\n",
      "Enter choice: 0\n",
      "Exiting!\n",
      "\n"
     ]
    }
   ],
   "source": [
    "class check():\n",
    "    def __init__(self):\n",
    "        self.n=[]\n",
    "    def add(self,a):\n",
    "        return self.n.append(a)\n",
    "    def remove(self,b):\n",
    "        self.n.0remove(b)\n",
    "    def dis(self):\n",
    "        return (self.n)\n",
    " \n",
    "obj=check()\n",
    " \n",
    "choice=1\n",
    "while choice!=0:\n",
    "    print(\"0. Exit\")\n",
    "    print(\"1. add/create\")\n",
    "    print(\"2. remove\")\n",
    "    print(\"3. Display\")\n",
    "    choice=int(input(\"Enter choice: \"))\n",
    "    if choice==1:\n",
    "        n=int(input(\"Enter number to append: \"))\n",
    "        obj.add(n)\n",
    "        print(\"List: \",obj.dis())\n",
    " \n",
    "    elif choice==2:\n",
    "        n=int(input(\"Enter number to remove: \"))\n",
    "        obj.remove(n)\n",
    "        print(\"List: \",obj.dis())\n",
    " \n",
    "    elif choice==3:\n",
    "        print(\"List: \",obj.dis())\n",
    "    elif choice==0:\n",
    "        print(\"Exiting!\")\n",
    "    else:\n",
    "        print(\"Invalid choice!!\")\n",
    " \n",
    "print()"
   ]
  },
  {
   "cell_type": "code",
   "execution_count": 10,
   "metadata": {},
   "outputs": [
    {
     "name": "stdout",
     "output_type": "stream",
     "text": [
      "Enter any number5\n"
     ]
    },
    {
     "data": {
      "text/plain": [
       "120"
      ]
     },
     "execution_count": 10,
     "metadata": {},
     "output_type": "execute_result"
    }
   ],
   "source": [
    "#Q Factorial using recusrsion\n",
    "def factorial( n ):\n",
    "    if n <1:\n",
    "        return 1\n",
    "    else:\n",
    "        returnNumber = n * factorial( n - 1 )\n",
    "        #print(str(n) + '! = ' + str(returnNumber))\n",
    "        return returnNumber\n",
    "n=int(input(\"Enter any number\"))\n",
    "factorial(n)"
   ]
  },
  {
   "cell_type": "code",
   "execution_count": 19,
   "metadata": {},
   "outputs": [
    {
     "name": "stdout",
     "output_type": "stream",
     "text": [
      "Enter a number10046\n",
      "Enter a number8124\n",
      "2\n",
      "Enter yes/no: yes\n",
      "Enter a number8016\n",
      "Enter a number4064\n",
      "16\n",
      "Enter yes/no: no\n"
     ]
    }
   ],
   "source": [
    "#Q8 HCF(GCD)\n",
    "def hcf_gcd(a,b):\n",
    "    while b:\n",
    "        a,b=b,a%b\n",
    "    print(a)\n",
    "option='yes'\n",
    "while option=='yes':\n",
    "    a,b=int(input(\"Enter a number\")),int(input(\"Enter a number\"))\n",
    "    hcf_gcd(a,b)\n",
    "    option=input(\"Enter yes/no: \")"
   ]
  },
  {
   "cell_type": "code",
   "execution_count": 6,
   "metadata": {},
   "outputs": [
    {
     "data": {
      "text/plain": [
       "[10, 11]"
      ]
     },
     "execution_count": 6,
     "metadata": {},
     "output_type": "execute_result"
    }
   ],
   "source": [
    "#listwithinlist\n",
    "lst=[[1],[2,3,4],[5,6,7,8,9],[10,11,12,13,14,15,16]]\n",
    "lst[3][0:2]"
   ]
  },
  {
   "cell_type": "code",
   "execution_count": 8,
   "metadata": {},
   "outputs": [
    {
     "name": "stdout",
     "output_type": "stream",
     "text": [
      "Enter a range5\n"
     ]
    }
   ],
   "source": [
    "n=int(input(\"Enter a range\"))\n",
    "lst=[x for x in range(n) if x%2==1]"
   ]
  },
  {
   "cell_type": "code",
   "execution_count": 11,
   "metadata": {},
   "outputs": [],
   "source": [
    "lst=[]\n",
    "for i in range(1,13,2):\n",
    "    lst.append(i)\n",
    "    "
   ]
  },
  {
   "cell_type": "code",
   "execution_count": 12,
   "metadata": {},
   "outputs": [
    {
     "data": {
      "text/plain": [
       "[1, 3, 5, 7, 9, 11]"
      ]
     },
     "execution_count": 12,
     "metadata": {},
     "output_type": "execute_result"
    }
   ],
   "source": [
    "lst"
   ]
  },
  {
   "cell_type": "code",
   "execution_count": 13,
   "metadata": {},
   "outputs": [],
   "source": [
    "board = []    \n",
    "for i in range(6): # create a list with nested lists\n",
    "    board.append([])\n",
    "    for n in range(6):\n",
    "        board[i].append(\"O\") # fills nested lists with data"
   ]
  },
  {
   "cell_type": "code",
   "execution_count": 14,
   "metadata": {},
   "outputs": [
    {
     "data": {
      "text/plain": [
       "[['O', 'O', 'O', 'O', 'O', 'O'],\n",
       " ['O', 'O', 'O', 'O', 'O', 'O'],\n",
       " ['O', 'O', 'O', 'O', 'O', 'O'],\n",
       " ['O', 'O', 'O', 'O', 'O', 'O'],\n",
       " ['O', 'O', 'O', 'O', 'O', 'O'],\n",
       " ['O', 'O', 'O', 'O', 'O', 'O']]"
      ]
     },
     "execution_count": 14,
     "metadata": {},
     "output_type": "execute_result"
    }
   ],
   "source": [
    "board"
   ]
  },
  {
   "cell_type": "code",
   "execution_count": 18,
   "metadata": {},
   "outputs": [
    {
     "name": "stdout",
     "output_type": "stream",
     "text": [
      "Enter a range5\n"
     ]
    }
   ],
   "source": [
    "outside_list=[]\n",
    "n=int(input(\"Enter a range\"))\n",
    "for i in range(1,n,2):\n",
    "    inside_list=[]\n",
    "    inside_list.append(i)\n",
    "    inside_list.append(i+2)\n",
    "    outside_list.append(inside_list)"
   ]
  },
  {
   "cell_type": "code",
   "execution_count": 19,
   "metadata": {},
   "outputs": [
    {
     "data": {
      "text/plain": [
       "[[1, 3], [2, 4], [3, 5], [4, 6]]"
      ]
     },
     "execution_count": 19,
     "metadata": {},
     "output_type": "execute_result"
    }
   ],
   "source": [
    "outside_list"
   ]
  },
  {
   "cell_type": "code",
   "execution_count": null,
   "metadata": {},
   "outputs": [],
   "source": []
  },
  {
   "cell_type": "code",
   "execution_count": null,
   "metadata": {},
   "outputs": [],
   "source": []
  },
  {
   "cell_type": "code",
   "execution_count": null,
   "metadata": {},
   "outputs": [],
   "source": []
  }
 ],
 "metadata": {
  "kernelspec": {
   "display_name": "Python 3",
   "language": "python",
   "name": "python3"
  },
  "language_info": {
   "codemirror_mode": {
    "name": "ipython",
    "version": 3
   },
   "file_extension": ".py",
   "mimetype": "text/x-python",
   "name": "python",
   "nbconvert_exporter": "python",
   "pygments_lexer": "ipython3",
   "version": "3.6.5"
  }
 },
 "nbformat": 4,
 "nbformat_minor": 2
}
